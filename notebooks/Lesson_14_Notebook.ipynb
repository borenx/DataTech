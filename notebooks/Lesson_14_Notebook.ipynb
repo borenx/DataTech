{
 "cells": [
  {
   "cell_type": "markdown",
   "metadata": {},
   "source": [
    "# Breaking down data.gov climate data\n",
    "\n",
    "Data.gov maintains a list of climate related datasets, but they are maintained by different agencies.  I'd like to get a sense of the number and diversity of these datasets, and which agencies they are coming from."
   ]
  },
  {
   "cell_type": "code",
   "execution_count": 1,
   "metadata": {
    "collapsed": true
   },
   "outputs": [],
   "source": [
    "import requests\n",
    "import requests_ftp\n",
    "import requests_cache\n",
    "import lxml\n",
    "from bs4 import BeautifulSoup\n",
    "from collections import Counter\n",
    "from matplotlib import pyplot as plt\n",
    "import pandas as pd\n",
    "plt.style.use('ggplot')\n",
    "requests_cache.install_cache('coll_cache')\n",
    "%matplotlib inline"
   ]
  },
  {
   "cell_type": "markdown",
   "metadata": {},
   "source": [
    "I went to data.gov and selected the climate data tab.  Here is the url: https://catalog.data.gov/dataset?groups=climate5434&page=1\n",
    "\n",
    "Let's make a request for this page.  To install requests-ftp use pip or conda."
   ]
  },
  {
   "cell_type": "code",
   "execution_count": 2,
   "metadata": {
    "collapsed": true
   },
   "outputs": [],
   "source": [
    "urlbase = \"https://catalog.data.gov/dataset\"\n",
    "dataparams = {\"groups\":\"climate5434\",\"page\":1}\n",
    "climreq = requests.get(urlbase,params = dataparams)"
   ]
  },
  {
   "cell_type": "code",
   "execution_count": 3,
   "metadata": {
    "collapsed": true
   },
   "outputs": [],
   "source": [
    "climhtml = climreq.text\n",
    "clim = BeautifulSoup(climhtml,'lxml-xml')"
   ]
  },
  {
   "cell_type": "markdown",
   "metadata": {},
   "source": [
    "Here we imported the climate data catalogue (page 1), and turned it into a Beautiful Soup object.  We used the lxml parser, which is why we had to import lxml.  Let's look at the raw html."
   ]
  },
  {
   "cell_type": "code",
   "execution_count": 4,
   "metadata": {},
   "outputs": [
    {
     "name": "stdout",
     "output_type": "stream",
     "text": [
      "<!DOCTYPE html>\n",
      "<!--[if IE 7]> <html lang=\"en\" class=\"ie ie7\"> <![endif]-->\n",
      "<!--[if IE 8]> <html lang=\"en\" class=\"ie ie8\"> <![endif]-->\n",
      "<!--[if IE 9]> <html lang=\"en\" class=\"ie9\"> <![endif]-->\n",
      "<!--[if gt IE 8]><!--> <html lang=\"en\"> <!--<![endif]-->\n",
      "  <head>\n",
      "    <!--[if lte ie 8]><script type=\"text/javascript\" src=\"/fanstatic/vendor/:version:2018-01-17T19:07:30.98/html5.min.js\"></script><![endif]-->\n",
      "<link rel=\"stylesheet\" type=\"text/css\" href=\"/fanstatic/vendor/:version:2018-01-17T19:07:30.98/se\n"
     ]
    }
   ],
   "source": [
    "print(climhtml[:500])"
   ]
  },
  {
   "cell_type": "code",
   "execution_count": 5,
   "metadata": {
    "scrolled": false
   },
   "outputs": [
    {
     "name": "stdout",
     "output_type": "stream",
     "text": [
      "<?xml version=\"1.0\" encoding=\"utf-8\"?>\n",
      "<!DOCTYPE html>\n",
      "<!--[if IE 7]> <html lang=\"en\" class=\"ie ie7\"> <![endif]-->\n",
      "<!--[if IE 8]> <html lang=\"en\" class=\"ie ie8\"> <![endif]-->\n",
      "<!--[if IE 9]> <html lang=\"en\" class=\"ie9\"> <![endif]-->\n",
      "<!--[if gt IE 8]><!-->\n",
      "<html lang=\"en\">\n",
      " <!--<![endif]-->\n",
      " <head>\n",
      "  <!--[if lte ie 8]><script type=\"text/javascript\" src=\"/fanstatic/vendor/:version:2018-01-17T19:07:30.98/html5.min.js\"></script><![endif]-->\n",
      "  <link href=\"/fanstatic/vendor/:version:2018-01-17T19:07:30\n"
     ]
    }
   ],
   "source": [
    "print(clim.prettify()[:500])"
   ]
  },
  {
   "cell_type": "markdown",
   "metadata": {},
   "source": [
    "The BS object, and tags have other tags within then that you can access either as a class object (like below) or using the find method"
   ]
  },
  {
   "cell_type": "code",
   "execution_count": 6,
   "metadata": {},
   "outputs": [
    {
     "name": "stdout",
     "output_type": "stream",
     "text": [
      "<body data-locale-root=\"https://catalog.data.gov/\" data-site-root=\"https://catalog.data.gov/\">\n",
      " <div class=\"hide\">\n",
      "  <a href=\"#content\">\n",
      "   Skip to content\n",
      "  </a>\n",
      " </div>\n",
      " <a class=\"hide\" href=\"#content\">\n",
      "  Skip to content\n",
      " </a>\n",
      " <header class=\"navbar navbar-static-top masthead\">\n",
      "  <div class=\"container\">\n",
      "   <div class=\"searchbox-row skip-navigation\">\n",
      "    <div class=\"skip-link\">\n",
      "     <a href=\"#\">\n",
      "      Jump to Content\n",
      "     </a>\n",
      "    </div>\n",
      "    <div>\n",
      "     <form action=\"/dataset\" class=\"search-form\n"
     ]
    }
   ],
   "source": [
    "print(clim.body.prettify()[:500])"
   ]
  },
  {
   "cell_type": "code",
   "execution_count": 7,
   "metadata": {
    "collapsed": true
   },
   "outputs": [],
   "source": [
    "collset_content = clim.find_all(name='div',attrs={'class':'dataset-content'})"
   ]
  },
  {
   "cell_type": "code",
   "execution_count": 8,
   "metadata": {},
   "outputs": [
    {
     "data": {
      "text/plain": [
       "[<div class=\"dataset-content\">\n",
       " <div class=\"organization-type-wrap\">\n",
       " <span class=\"organization-type\" data-organization-type=\"federal\" title=\"Federal Government\">\n",
       " <span>Federal</span>\n",
       " </span>\n",
       " </div>\n",
       " <h3 class=\"dataset-heading\">\n",
       " <a href=\"/dataset/u-s-hourly-precipitation-data\">U.S. Hourly Precipitation Data</a>\n",
       " <!-- Snippet snippets/popular.html start -->\n",
       " <span class=\"recent-views\" title=\"1063 recent views\" xmlns=\"http://www.w3.org/1999/xhtml\">\n",
       " <i class=\"fa fa-line-chart\"/> 1063 recent views\n",
       " </span>\n",
       " <!-- Snippet snippets/popular.html end -->\n",
       " </h3>\n",
       " <div class=\"notes\">\n",
       " <p class=\"dataset-organization\">National Oceanic and Atmospheric Administration, Department of Commerce </p>\n",
       " <div>Hourly Precipitation Data (HPD) is digital data set DSI-3240, archived at the National Climatic Data Center (NCDC). The primary source of data for this file is...</div>\n",
       " </div>\n",
       " <ul class=\"dataset-resources unstyled\">\n",
       " <li>\n",
       " <a class=\"label\" data-format=\"html\" data-organization=\"National Oceanic and Atmospheric Administration, Department of Commerce\" href=\"https://data.nodc.noaa.gov/cgi-bin/iso?id=gov.noaa.ncdc:C00313\" target=\"_blank\">HTML</a>\n",
       " </li>\n",
       " <li>\n",
       " <a class=\"label\" data-format=\"html\" data-organization=\"National Oceanic and Atmospheric Administration, Department of Commerce\" href=\"https://www.ncdc.noaa.gov/cdo-web/search?datasetid=PRECIP_HLY#\" target=\"_blank\">HTML</a>\n",
       " </li>\n",
       " <li>\n",
       " <a class=\"label\" data-format=\"html\" data-organization=\"National Oceanic and Atmospheric Administration, Department of Commerce\" href=\"https://gis.ncdc.noaa.gov/maps/ncei/cdo/hourly?layers=001\" target=\"_blank\">HTML</a>\n",
       " </li>\n",
       " <li>\n",
       " <a class=\"label\" data-format=\"html\" data-organization=\"National Oceanic and Atmospheric Administration, Department of Commerce\" href=\"ftp://ftp.ncdc.noaa.gov/pub/data/hourly_precip-3240/\" target=\"_blank\">HTML</a>\n",
       " </li>\n",
       " <li>\n",
       " <a class=\"label\" data-format=\"esri rest\" data-organization=\"National Oceanic and Atmospheric Administration, Department of Commerce\" href=\"https://gis.ncdc.noaa.gov/arcgis/rest/services/cdo/precip_hly/MapServer\" target=\"_blank\">Esri REST</a>\n",
       " </li>\n",
       " <li>\n",
       " <a class=\"label\" data-format=\"kmz\" data-organization=\"National Oceanic and Atmospheric Administration, Department of Commerce\" href=\"/dataset/u-s-hourly-precipitation-data/resource/126aedd4-9d30-4a8f-86c4-144575762fb2\">KMZ</a>\n",
       " </li>\n",
       " <li>\n",
       " <a class=\"more\" href=\"/dataset/u-s-hourly-precipitation-data\">11 more in dataset</a>\n",
       " </li>\n",
       " </ul>\n",
       " </div>, <div class=\"dataset-content\">\n",
       " <div class=\"organization-type-wrap\">\n",
       " <span class=\"organization-type\" data-organization-type=\"federal\" title=\"Federal Government\">\n",
       " <span>Federal</span>\n",
       " </span>\n",
       " </div>\n",
       " <h3 class=\"dataset-heading\">\n",
       " <span class=\"dataset-collection label\">\n",
       " <i class=\"icon-collection\"/>\n",
       "                 Collection\n",
       "             </span>\n",
       " <a href=\"/dataset/usgs-national-elevation-dataset-ned-1-meter-downloadable-data-collection-from-the-national-map-\">1 meter Digital Elevation Models (DEMs) - USGS National Map 3DEP Downloadable Data Collection</a>\n",
       " <!-- Snippet snippets/popular.html start -->\n",
       " <span class=\"recent-views\" title=\"774 recent views\" xmlns=\"http://www.w3.org/1999/xhtml\">\n",
       " <i class=\"fa fa-line-chart\"/> 774 recent views\n",
       " </span>\n",
       " <!-- Snippet snippets/popular.html end -->\n",
       " </h3>\n",
       " <div class=\"notes\">\n",
       " <p class=\"dataset-organization\">U.S. Geological Survey, Department of the Interior </p>\n",
       " <div>This is a tiled collection of the 3D Elevation Program (3DEP) and is one meter resolution.The 3DEP data holdings serve as the elevation layer of The National Map,...</div>\n",
       " </div>\n",
       " <ul class=\"dataset-resources unstyled\">\n",
       " <li>\n",
       " <a class=\"label\" data-format=\"waf\" data-organization=\"U.S. Geological Survey, Department of the Interior\" href=\"https://thor-f5.er.usgs.gov/ngtoc/metadata/waf/elevation/1_meter/\">WAF</a>\n",
       " </li>\n",
       " <li>\n",
       " <a class=\"label\" data-format=\"img\" data-organization=\"U.S. Geological Survey, Department of the Interior\" href=\"https://prd-tnm.s3.amazonaws.com/index.html?prefix=StagedProducts/Elevation/1m/IMG/\">IMG</a>\n",
       " </li>\n",
       " <li>\n",
       " <a class=\"label\" data-format=\"esri rest\" data-organization=\"U.S. Geological Survey, Department of the Interior\" href=\"https://services.nationalmap.gov/arcgis/rest/services/3DEPElevationIndex/MapServer\" target=\"_blank\">Esri REST</a>\n",
       " </li>\n",
       " <li>\n",
       " <a class=\"label\" data-format=\"wms\" data-organization=\"U.S. Geological Survey, Department of the Interior\" href=\"/dataset/usgs-national-elevation-dataset-ned-1-meter-downloadable-data-collection-from-the-national-map-/resource/ca4babd7-eb82-4112-9fd7-371f2e8b4955\">WMS</a>\n",
       " </li>\n",
       " <li>\n",
       " <a class=\"label\" data-format=\"html\" data-organization=\"U.S. Geological Survey, Department of the Interior\" href=\"https://nationalmap.gov/3DEP/\" target=\"_blank\">HTML</a>\n",
       " </li>\n",
       " <li>\n",
       " <a class=\"label\" data-format=\"html\" data-organization=\"U.S. Geological Survey, Department of the Interior\" href=\"https://viewer.nationalmap.gov/\" target=\"_blank\">HTML</a>\n",
       " </li>\n",
       " </ul>\n",
       " </div>, <div class=\"dataset-content\">\n",
       " <div class=\"organization-type-wrap\">\n",
       " <span class=\"organization-type\" data-organization-type=\"federal\" title=\"Federal Government\">\n",
       " <span>Federal</span>\n",
       " </span>\n",
       " </div>\n",
       " <h3 class=\"dataset-heading\">\n",
       " <a href=\"/dataset/fruit-and-vegetable-prices\">Fruit and Vegetable Prices</a>\n",
       " <!-- Snippet snippets/popular.html start -->\n",
       " <span class=\"recent-views\" title=\"711 recent views\" xmlns=\"http://www.w3.org/1999/xhtml\">\n",
       " <i class=\"fa fa-line-chart\"/> 711 recent views\n",
       " </span>\n",
       " <!-- Snippet snippets/popular.html end -->\n",
       " </h3>\n",
       " <div class=\"notes\">\n",
       " <p class=\"dataset-organization\">Department of Agriculture </p>\n",
       " <div>How much do fruits and vegetables cost? ERS estimated average prices for 153 commonly consumed fresh and processed fruits and vegetables.\n",
       " </div>\n",
       " </div>\n",
       " <ul class=\"dataset-resources unstyled\">\n",
       " <li>\n",
       " <a class=\"label\" data-format=\"xls\" data-organization=\"Department of Agriculture\" href=\"http://www.ers.usda.gov/data-products/fruit-and-vegetable-prices.aspx\">XLS</a>\n",
       " </li>\n",
       " </ul>\n",
       " </div>, <div class=\"dataset-content\">\n",
       " <div class=\"organization-type-wrap\">\n",
       " <span class=\"organization-type\" data-organization-type=\"federal\" title=\"Federal Government\">\n",
       " <span>Federal</span>\n",
       " </span>\n",
       " </div>\n",
       " <h3 class=\"dataset-heading\">\n",
       " <a href=\"/dataset/american-factfinder-ii\">American FactFinder II</a>\n",
       " <!-- Snippet snippets/popular.html start -->\n",
       " <span class=\"recent-views\" title=\"638 recent views\" xmlns=\"http://www.w3.org/1999/xhtml\">\n",
       " <i class=\"fa fa-line-chart\"/> 638 recent views\n",
       " </span>\n",
       " <!-- Snippet snippets/popular.html end -->\n",
       " </h3>\n",
       " <div class=\"notes\">\n",
       " <p class=\"dataset-organization\">Department of Commerce </p>\n",
       " <div>American FactFinder is the Census Bureau's online, self-service tool designed to search a variety of population, economic, geographic and housing information.\n",
       " </div>\n",
       " </div>\n",
       " <ul class=\"dataset-resources unstyled\">\n",
       " <li>\n",
       " <a class=\"label\" data-format=\"csv\" data-organization=\"Department of Commerce\" href=\"http://factfinder2.census.gov\">CSV</a>\n",
       " </li>\n",
       " </ul>\n",
       " </div>, <div class=\"dataset-content\">\n",
       " <div class=\"organization-type-wrap\">\n",
       " <span class=\"organization-type\" data-organization-type=\"federal\" title=\"Federal Government\">\n",
       " <span>Federal</span>\n",
       " </span>\n",
       " </div>\n",
       " <h3 class=\"dataset-heading\">\n",
       " <a href=\"/dataset/national-flood-hazard-layer-nfhl\">National Flood Hazard Layer (NFHL)</a>\n",
       " <!-- Snippet snippets/popular.html start -->\n",
       " <span class=\"recent-views\" title=\"484 recent views\" xmlns=\"http://www.w3.org/1999/xhtml\">\n",
       " <i class=\"fa fa-line-chart\"/> 484 recent views\n",
       " </span>\n",
       " <!-- Snippet snippets/popular.html end -->\n",
       " </h3>\n",
       " <div class=\"notes\">\n",
       " <p class=\"dataset-organization\">Department of Homeland Security </p>\n",
       " <div>The National Flood Hazard Layer (NFHL) is a compilation of GIS data that comprises a nationwide digital Flood Insurance Rate Map. The GIS data and services are...</div>\n",
       " </div>\n",
       " <ul class=\"dataset-resources unstyled\">\n",
       " <li>\n",
       " <a class=\"label\" data-format=\"nfhl status page\" data-organization=\"Department of Homeland Security\" href=\"http://www.floodmaps.fema.gov/NFHL/status.shtml\">NFHL Status Page</a>\n",
       " </li>\n",
       " <li>\n",
       " <a class=\"label\" data-format=\"nfhl interactive map (fema geoplatform)\" data-organization=\"Department of Homeland Security\" href=\"http://fema.maps.arcgis.com/home/item.html?id=cbe088e7c8704464aa0fc34eb99e7f30\">NFHL Interactive Map (FEMA GeoPlatform)</a>\n",
       " </li>\n",
       " <li>\n",
       " <a class=\"label\" data-format=\"fact sheet: national flood hazard layer (nfhl)\" data-organization=\"Department of Homeland Security\" href=\"http://www.fema.gov/media-library/assets/documents/13424\">Fact Sheet: National Flood Hazard Layer (NFHL)</a>\n",
       " </li>\n",
       " <li>\n",
       " <a class=\"label\" data-format=\"get flood maps and data from fema\" data-organization=\"Department of Homeland Security\" href=\"http://msc.fema.gov\">Get Flood Maps and Data from FEMA</a>\n",
       " </li>\n",
       " <li>\n",
       " <a class=\"label\" data-format=\"download seamless nationwide nfhl gis data\" data-organization=\"Department of Homeland Security\" href=\"https://content.femadata.com/FIMA/Risk_MAP/NFHL/\">Download Seamless Nationwide NFHL GIS data</a>\n",
       " </li>\n",
       " <li>\n",
       " <a class=\"label\" data-format=\"pdf\" data-organization=\"Department of Homeland Security\" href=\"http://www.fema.gov/media-library-data/1449862521789-e97ed4c7b7405faa7c3691603137ec40/FIRM_Database_Technical_Reference_Nov_2015.pdf\">PDF</a>\n",
       " </li>\n",
       " <li>\n",
       " <a class=\"more\" href=\"/dataset/national-flood-hazard-layer-nfhl\">1 more in dataset</a>\n",
       " </li>\n",
       " </ul>\n",
       " </div>, <div class=\"dataset-content\">\n",
       " <div class=\"organization-type-wrap\">\n",
       " <span class=\"organization-type\" data-organization-type=\"federal\" title=\"Federal Government\">\n",
       " <span>Federal</span>\n",
       " </span>\n",
       " </div>\n",
       " <h3 class=\"dataset-heading\">\n",
       " <span class=\"dataset-collection label\">\n",
       " <i class=\"icon-collection\"/>\n",
       "                 Collection\n",
       "             </span>\n",
       " <a href=\"/dataset/usgs-national-transportation-dataset-ntd-downloadable-data-collectionde7d2\">USGS National Transportation Dataset (NTD) Downloadable Data Collection</a>\n",
       " <!-- Snippet snippets/popular.html start -->\n",
       " <span class=\"recent-views\" title=\"455 recent views\" xmlns=\"http://www.w3.org/1999/xhtml\">\n",
       " <i class=\"fa fa-line-chart\"/> 455 recent views\n",
       " </span>\n",
       " <!-- Snippet snippets/popular.html end -->\n",
       " </h3>\n",
       " <div class=\"notes\">\n",
       " <p class=\"dataset-organization\">U.S. Geological Survey, Department of the Interior </p>\n",
       " <div>The USGS Transportation downloadable data from The National Map (TNM) is based on TIGER/Line data provided through U.S. Census Bureau and supplemented with HERE road...</div>\n",
       " </div>\n",
       " <ul class=\"dataset-resources unstyled\">\n",
       " <li>\n",
       " <a class=\"label\" data-format=\"waf\" data-organization=\"U.S. Geological Survey, Department of the Interior\" href=\"https://thor-f5.er.usgs.gov/ngtoc/metadata/waf/transportation/ntd/\">WAF</a>\n",
       " </li>\n",
       " <li>\n",
       " <a class=\"label\" data-format=\"filegdb\" data-organization=\"U.S. Geological Survey, Department of the Interior\" href=\"https://prd-tnm.s3.amazonaws.com/index.html?prefix=StagedProducts/Tran/GDB/\">FileGDB</a>\n",
       " </li>\n",
       " <li>\n",
       " <a class=\"label\" data-format=\"shp\" data-organization=\"U.S. Geological Survey, Department of the Interior\" href=\"https://prd-tnm.s3.amazonaws.com/index.html?prefix=StagedProducts/Tran/Shape/\">SHP</a>\n",
       " </li>\n",
       " <li>\n",
       " <a class=\"label\" data-format=\"esri rest\" data-organization=\"U.S. Geological Survey, Department of the Interior\" href=\"https://services.nationalmap.gov/arcgis/rest/services/transportation/MapServer\" target=\"_blank\">Esri REST</a>\n",
       " </li>\n",
       " <li>\n",
       " <a class=\"label\" data-format=\"wms\" data-organization=\"U.S. Geological Survey, Department of the Interior\" href=\"/dataset/usgs-national-transportation-dataset-ntd-downloadable-data-collectionde7d2/resource/21b82b1a-82e5-4627-ac97-cb07abcde8c2\">WMS</a>\n",
       " </li>\n",
       " <li>\n",
       " <a class=\"label\" data-format=\"wfs\" data-organization=\"U.S. Geological Survey, Department of the Interior\" href=\"http://services.nationalmap.gov/arcgis/services/WFS/transportation/MapServer/WFSServer?request=GetCapabilities&amp;service=WFS\">WFS</a>\n",
       " </li>\n",
       " <li>\n",
       " <a class=\"more\" href=\"/dataset/usgs-national-transportation-dataset-ntd-downloadable-data-collectionde7d2\">1 more in dataset</a>\n",
       " </li>\n",
       " </ul>\n",
       " </div>, <div class=\"dataset-content\">\n",
       " <div class=\"organization-type-wrap\">\n",
       " <span class=\"organization-type\" data-organization-type=\"federal\" title=\"Federal Government\">\n",
       " <span>Federal</span>\n",
       " </span>\n",
       " </div>\n",
       " <h3 class=\"dataset-heading\">\n",
       " <a href=\"/dataset/food-environment-atlas-f4a22\">Food Environment Atlas</a>\n",
       " <!-- Snippet snippets/popular.html start -->\n",
       " <span class=\"recent-views\" title=\"427 recent views\" xmlns=\"http://www.w3.org/1999/xhtml\">\n",
       " <i class=\"fa fa-line-chart\"/> 427 recent views\n",
       " </span>\n",
       " <!-- Snippet snippets/popular.html end -->\n",
       " </h3>\n",
       " <div class=\"notes\">\n",
       " <p class=\"dataset-organization\">Department of Agriculture </p>\n",
       " <div>Food environment factors--such as store/restaurant proximity, food prices, food and nutrition assistance programs, and community characteristics--interact to...</div>\n",
       " </div>\n",
       " <ul class=\"dataset-resources unstyled\">\n",
       " <li>\n",
       " <a class=\"label\" data-format=\"html\" data-organization=\"Department of Agriculture\" href=\"http://www.ers.usda.gov/data-products/food-environment-atlas/go-to-the-atlas.aspx\" target=\"_blank\">HTML</a>\n",
       " </li>\n",
       " <li>\n",
       " <a class=\"label\" data-format=\"api\" data-organization=\"Department of Agriculture\" href=\"https://gis.ers.usda.gov/arcgis/rest/services/\" target=\"_blank\">API</a>\n",
       " </li>\n",
       " <li>\n",
       " <a class=\"label\" data-format=\"html\" data-organization=\"Department of Agriculture\" href=\"http://www.ers.usda.gov/data-products/food-environment-atlas/data-access-and-documentation-downloads/\" target=\"_blank\">HTML</a>\n",
       " </li>\n",
       " </ul>\n",
       " </div>, <div class=\"dataset-content\">\n",
       " <div class=\"organization-type-wrap\">\n",
       " <span class=\"organization-type\" data-organization-type=\"federal\" title=\"Federal Government\">\n",
       " <span>Federal</span>\n",
       " </span>\n",
       " </div>\n",
       " <h3 class=\"dataset-heading\">\n",
       " <a href=\"/dataset/statistical-abstract-of-the-united-states\">Statistical Abstract of the United States</a>\n",
       " <!-- Snippet snippets/popular.html start -->\n",
       " <span class=\"recent-views\" title=\"330 recent views\" xmlns=\"http://www.w3.org/1999/xhtml\">\n",
       " <i class=\"fa fa-line-chart\"/> 330 recent views\n",
       " </span>\n",
       " <!-- Snippet snippets/popular.html end -->\n",
       " </h3>\n",
       " <div class=\"notes\">\n",
       " <p class=\"dataset-organization\">Department of Commerce </p>\n",
       " <div>First published in 1878, the Statistical Abstract serves as the official federal summary of statistics and provides over 1,400 tables of benchmark measures on the...</div>\n",
       " </div>\n",
       " <ul class=\"dataset-resources unstyled\">\n",
       " <li>\n",
       " <a class=\"label\" data-format=\"txt/html\" data-organization=\"Department of Commerce\" href=\"http://www.census.gov/library/publications/time-series/statistical_abstracts.html\">txt/html</a>\n",
       " </li>\n",
       " </ul>\n",
       " </div>, <div class=\"dataset-content\">\n",
       " <div class=\"organization-type-wrap\">\n",
       " <span class=\"organization-type\" data-organization-type=\"federal\" title=\"Federal Government\">\n",
       " <span>Federal</span>\n",
       " </span>\n",
       " </div>\n",
       " <h3 class=\"dataset-heading\">\n",
       " <span class=\"dataset-collection label\">\n",
       " <i class=\"icon-collection\"/>\n",
       "                 Collection\n",
       "             </span>\n",
       " <a href=\"/dataset/usgs-us-topo-map-collection\">USGS US Topo Map Collection</a>\n",
       " <!-- Snippet snippets/popular.html start -->\n",
       " <span class=\"recent-views\" title=\"324 recent views\" xmlns=\"http://www.w3.org/1999/xhtml\">\n",
       " <i class=\"fa fa-line-chart\"/> 324 recent views\n",
       " </span>\n",
       " <!-- Snippet snippets/popular.html end -->\n",
       " </h3>\n",
       " <div class=\"notes\">\n",
       " <p class=\"dataset-organization\">U.S. Geological Survey, Department of the Interior </p>\n",
       " <div>Layered GeoPDF 7.5 Minute Quadrangle Map. Layers of geospatial data include orthoimagery, roads, grids, geographic names, elevation contours, hydrography, and other...</div>\n",
       " </div>\n",
       " <ul class=\"dataset-resources unstyled\">\n",
       " <li>\n",
       " <a class=\"label\" data-format=\"waf\" data-organization=\"U.S. Geological Survey, Department of the Interior\" href=\"https://thor-f5.er.usgs.gov/ngtoc/metadata/ustopo/\">WAF</a>\n",
       " </li>\n",
       " <li>\n",
       " <a class=\"label\" data-format=\"esri rest\" data-organization=\"U.S. Geological Survey, Department of the Interior\" href=\"https://services.nationalmap.gov/ArcGIS/rest/services/US_Topo/MapServer\" target=\"_blank\">Esri REST</a>\n",
       " </li>\n",
       " <li>\n",
       " <a class=\"label\" data-format=\"csw\" data-organization=\"U.S. Geological Survey, Department of the Interior\" href=\"https://www.sciencebase.gov/catalog/item/4f554236e4b018de15819c85/csw?service=CSW&amp;version=2.0.2&amp;request=GetRecords\">csw</a>\n",
       " </li>\n",
       " <li>\n",
       " <a class=\"label\" data-format=\"oai-pmh\" data-organization=\"U.S. Geological Survey, Department of the Interior\" href=\"https://www.sciencebase.gov/catalog/oai-pmh?verb=ListRecords&amp;set=4f554236e4b018de15819c85&amp;metadataPrefix=fgdc-orig\">OAI-PMH</a>\n",
       " </li>\n",
       " <li>\n",
       " <a class=\"label\" data-format=\"wms\" data-organization=\"U.S. Geological Survey, Department of the Interior\" href=\"/dataset/usgs-us-topo-map-collection/resource/072a15ad-1496-41f8-aa2b-4a1b4ad5b0fe\">WMS</a>\n",
       " </li>\n",
       " <li>\n",
       " <a class=\"label\" data-format=\"wms\" data-organization=\"U.S. Geological Survey, Department of the Interior\" href=\"/dataset/usgs-us-topo-map-collection/resource/5e645224-6869-4101-ba82-c6e16c6ffb53\">WMS</a>\n",
       " </li>\n",
       " <li>\n",
       " <a class=\"more\" href=\"/dataset/usgs-us-topo-map-collection\">6 more in dataset</a>\n",
       " </li>\n",
       " </ul>\n",
       " </div>, <div class=\"dataset-content\">\n",
       " <div class=\"organization-type-wrap\">\n",
       " <span class=\"organization-type\" data-organization-type=\"federal\" title=\"Federal Government\">\n",
       " <span>Federal</span>\n",
       " </span>\n",
       " </div>\n",
       " <h3 class=\"dataset-heading\">\n",
       " <a href=\"/dataset/farm-programs-payments\">Farm Programs Payments</a>\n",
       " <!-- Snippet snippets/popular.html start -->\n",
       " <span class=\"recent-views\" title=\"316 recent views\" xmlns=\"http://www.w3.org/1999/xhtml\">\n",
       " <i class=\"fa fa-line-chart\"/> 316 recent views\n",
       " </span>\n",
       " <!-- Snippet snippets/popular.html end -->\n",
       " </h3>\n",
       " <div class=\"notes\">\n",
       " <p class=\"dataset-organization\">Department of Agriculture </p>\n",
       " <div>Payments made by the Department of Agriculture, Farm Service Agency to US agricultural producers participating in Farm Bill programs including commodity, price...</div>\n",
       " </div>\n",
       " <ul class=\"dataset-resources unstyled\">\n",
       " <li>\n",
       " <a class=\"label\" data-format=\"html\" data-organization=\"Department of Agriculture\" href=\"http://www.fsa.usda.gov/FSA/webapp?area=newsroom&amp;subject=landing&amp;topic=foi-er-fri-pfi\" target=\"_blank\">HTML</a>\n",
       " </li>\n",
       " </ul>\n",
       " </div>, <div class=\"dataset-content\">\n",
       " <div class=\"organization-type-wrap\">\n",
       " <span class=\"organization-type\" data-organization-type=\"federal\" title=\"Federal Government\">\n",
       " <span>Federal</span>\n",
       " </span>\n",
       " </div>\n",
       " <h3 class=\"dataset-heading\">\n",
       " <a href=\"/dataset/fluview-national-flu-activity-map\">FluView National Flu Activity Map</a>\n",
       " <!-- Snippet snippets/popular.html start -->\n",
       " <span class=\"recent-views\" title=\"275 recent views\" xmlns=\"http://www.w3.org/1999/xhtml\">\n",
       " <i class=\"fa fa-line-chart\"/> 275 recent views\n",
       " </span>\n",
       " <!-- Snippet snippets/popular.html end -->\n",
       " </h3>\n",
       " <div class=\"notes\">\n",
       " <p class=\"dataset-organization\">U.S. Department of Health  Human Services </p>\n",
       " <div>The FluView National Flu Activity Map is a complementary widget to the state-by-state flu map widget introduced in the 2007-2008 flu season. This interactive map...</div>\n",
       " </div>\n",
       " <ul class=\"dataset-resources unstyled\">\n",
       " <li>\n",
       " <a class=\"label\" data-format=\"widget\" data-organization=\"U.S. Department of Health &amp; Human Services\" href=\"http://www.cdc.gov/Widgets/#fluview\">widget</a>\n",
       " </li>\n",
       " </ul>\n",
       " </div>, <div class=\"dataset-content\">\n",
       " <div class=\"organization-type-wrap\">\n",
       " <span class=\"organization-type\" data-organization-type=\"federal\" title=\"Federal Government\">\n",
       " <span>Federal</span>\n",
       " </span>\n",
       " </div>\n",
       " <h3 class=\"dataset-heading\">\n",
       " <a href=\"/dataset/ncdc-storm-events-database\">NCDC Storm Events Database</a>\n",
       " <!-- Snippet snippets/popular.html start -->\n",
       " <span class=\"recent-views\" title=\"273 recent views\" xmlns=\"http://www.w3.org/1999/xhtml\">\n",
       " <i class=\"fa fa-line-chart\"/> 273 recent views\n",
       " </span>\n",
       " <!-- Snippet snippets/popular.html end -->\n",
       " </h3>\n",
       " <div class=\"notes\">\n",
       " <p class=\"dataset-organization\">National Oceanic and Atmospheric Administration, Department of Commerce </p>\n",
       " <div>Storm Data is provided by the National Weather Service (NWS) and contain statistics on personal injuries and damage estimates. Storm Data covers the United States of...</div>\n",
       " </div>\n",
       " <ul class=\"dataset-resources unstyled\">\n",
       " <li>\n",
       " <a class=\"label\" data-format=\"xml\" data-organization=\"National Oceanic and Atmospheric Administration, Department of Commerce\" href=\"https://data.nodc.noaa.gov/cgi-bin/iso?id=gov.noaa.ncdc:C00510\">XML</a>\n",
       " </li>\n",
       " <li>\n",
       " <a class=\"label\" data-format=\"xml\" data-organization=\"National Oceanic and Atmospheric Administration, Department of Commerce\" href=\"https://www.ncdc.noaa.gov/stormevents/ftp.jsp\">XML</a>\n",
       " </li>\n",
       " <li>\n",
       " <a class=\"label\" data-format=\"html\" data-organization=\"National Oceanic and Atmospheric Administration, Department of Commerce\" href=\"https://www.ncdc.noaa.gov/stormevents/faq.jsp\" target=\"_blank\">HTML</a>\n",
       " </li>\n",
       " <li>\n",
       " <a class=\"label\" data-format=\"html\" data-organization=\"National Oceanic and Atmospheric Administration, Department of Commerce\" href=\"https://www.ncdc.noaa.gov/stormevents/ftp.jsp\" target=\"_blank\">HTML</a>\n",
       " </li>\n",
       " <li>\n",
       " <a class=\"label\" data-format=\"html\" data-organization=\"National Oceanic and Atmospheric Administration, Department of Commerce\" href=\"https://www.ncdc.noaa.gov/stormevents/\" target=\"_blank\">HTML</a>\n",
       " </li>\n",
       " <li>\n",
       " <a class=\"label\" data-format=\"html\" data-organization=\"National Oceanic and Atmospheric Administration, Department of Commerce\" href=\"https://www.ncei.noaa.gov\" target=\"_blank\">HTML</a>\n",
       " </li>\n",
       " <li>\n",
       " <a class=\"more\" href=\"/dataset/ncdc-storm-events-database\">5 more in dataset</a>\n",
       " </li>\n",
       " </ul>\n",
       " </div>, <div class=\"dataset-content\">\n",
       " <div class=\"organization-type-wrap\">\n",
       " <span class=\"organization-type\" data-organization-type=\"federal\" title=\"Federal Government\">\n",
       " <span>Federal</span>\n",
       " </span>\n",
       " </div>\n",
       " <h3 class=\"dataset-heading\">\n",
       " <a href=\"/dataset/population-estimates\">Population Estimates</a>\n",
       " <!-- Snippet snippets/popular.html start -->\n",
       " <span class=\"recent-views\" title=\"262 recent views\" xmlns=\"http://www.w3.org/1999/xhtml\">\n",
       " <i class=\"fa fa-line-chart\"/> 262 recent views\n",
       " </span>\n",
       " <!-- Snippet snippets/popular.html end -->\n",
       " </h3>\n",
       " <div class=\"notes\">\n",
       " <p class=\"dataset-organization\">Department of Commerce </p>\n",
       " <div>The program publishes estimates of the population by age, sex, race, and Hispanic origin for the nation, states, and counties. It also provides estimates of the...</div>\n",
       " </div>\n",
       " <ul class=\"dataset-resources unstyled\">\n",
       " <li>\n",
       " <a class=\"label\" data-format=\"html\" data-organization=\"Department of Commerce\" href=\"http://www.census.gov/popest/data/index.html\" target=\"_blank\">HTML</a>\n",
       " </li>\n",
       " </ul>\n",
       " </div>, <div class=\"dataset-content\">\n",
       " <div class=\"organization-type-wrap\">\n",
       " <span class=\"organization-type\" data-organization-type=\"federal\" title=\"Federal Government\">\n",
       " <span>Federal</span>\n",
       " </span>\n",
       " </div>\n",
       " <h3 class=\"dataset-heading\">\n",
       " <span class=\"dataset-collection label\">\n",
       " <i class=\"icon-collection\"/>\n",
       "                 Collection\n",
       "             </span>\n",
       " <a href=\"/dataset/usgs-national-hydrography-dataset-nhd-downloadable-data-collection-national-geospatial-data-as\">National Hydrography Dataset (NHD) - USGS National Map Downloadable Data Collection</a>\n",
       " <!-- Snippet snippets/popular.html start -->\n",
       " <span class=\"recent-views\" title=\"243 recent views\" xmlns=\"http://www.w3.org/1999/xhtml\">\n",
       " <i class=\"fa fa-line-chart\"/> 243 recent views\n",
       " </span>\n",
       " <!-- Snippet snippets/popular.html end -->\n",
       " </h3>\n",
       " <div class=\"notes\">\n",
       " <p class=\"dataset-organization\">U.S. Geological Survey, Department of the Interior </p>\n",
       " <div>The USGS National Hydrography Dataset (NHD) Downloadable Data Collection from The National Map (TNM) is a comprehensive set of digital spatial data that encodes...</div>\n",
       " </div>\n",
       " <ul class=\"dataset-resources unstyled\">\n",
       " <li>\n",
       " <a class=\"label\" data-format=\"waf\" data-organization=\"U.S. Geological Survey, Department of the Interior\" href=\"https://thor-f5.er.usgs.gov/ngtoc/metadata/waf/hydrography/nhd/\">WAF</a>\n",
       " </li>\n",
       " <li>\n",
       " <a class=\"label\" data-format=\"ftp\" data-organization=\"U.S. Geological Survey, Department of the Interior\" href=\"ftp://rockyftp.cr.usgs.gov/vdelivery/Datasets/Staged/Hydrography/NHD/\">FTP</a>\n",
       " </li>\n",
       " <li>\n",
       " <a class=\"label\" data-format=\"amazon cloud\" data-organization=\"U.S. Geological Survey, Department of the Interior\" href=\"https://prd-tnm.s3.amazonaws.com/index.html?prefix=StagedProducts/Hydrography/NHD/\">Amazon Cloud</a>\n",
       " </li>\n",
       " <li>\n",
       " <a class=\"label\" data-format=\"esri rest\" data-organization=\"U.S. Geological Survey, Department of the Interior\" href=\"https://basemap.nationalmap.gov/arcgis/rest/services/USGSHydroCached/MapServer\" target=\"_blank\">Esri REST</a>\n",
       " </li>\n",
       " <li>\n",
       " <a class=\"label\" data-format=\"esri rest\" data-organization=\"U.S. Geological Survey, Department of the Interior\" href=\"https://hydro.nationalmap.gov/arcgis/rest/services/nhd/MapServer\" target=\"_blank\">Esri REST</a>\n",
       " </li>\n",
       " <li>\n",
       " <a class=\"label\" data-format=\"wms\" data-organization=\"U.S. Geological Survey, Department of the Interior\" href=\"/dataset/usgs-national-hydrography-dataset-nhd-downloadable-data-collection-national-geospatial-data-as/resource/6fe2f6ea-02e5-4a80-9011-104c98e7d960\">WMS</a>\n",
       " </li>\n",
       " <li>\n",
       " <a class=\"more\" href=\"/dataset/usgs-national-hydrography-dataset-nhd-downloadable-data-collection-national-geospatial-data-as\">2 more in dataset</a>\n",
       " </li>\n",
       " </ul>\n",
       " </div>, <div class=\"dataset-content\">\n",
       " <div class=\"organization-type-wrap\">\n",
       " <span class=\"organization-type\" data-organization-type=\"federal\" title=\"Federal Government\">\n",
       " <span>Federal</span>\n",
       " </span>\n",
       " </div>\n",
       " <h3 class=\"dataset-heading\">\n",
       " <a href=\"/dataset/u-s-daily-climate-normals-1981-2010\">U.S. Daily Climate Normals (1981-2010)</a>\n",
       " <!-- Snippet snippets/popular.html start -->\n",
       " <span class=\"recent-views\" title=\"236 recent views\" xmlns=\"http://www.w3.org/1999/xhtml\">\n",
       " <i class=\"fa fa-line-chart\"/> 236 recent views\n",
       " </span>\n",
       " <!-- Snippet snippets/popular.html end -->\n",
       " </h3>\n",
       " <div class=\"notes\">\n",
       " <p class=\"dataset-organization\">National Oceanic and Atmospheric Administration, Department of Commerce </p>\n",
       " <div>The U.S. Daily Climate Normals for 1981 to 2010 are 30-year averages of meteorological parameters for thousands of U.S. stations located across the 50 states, as...</div>\n",
       " </div>\n",
       " <ul class=\"dataset-resources unstyled\">\n",
       " <li>\n",
       " <a class=\"label\" data-format=\"html\" data-organization=\"National Oceanic and Atmospheric Administration, Department of Commerce\" href=\"https://data.nodc.noaa.gov/cgi-bin/iso?id=gov.noaa.ncdc:C00823\" target=\"_blank\">HTML</a>\n",
       " </li>\n",
       " <li>\n",
       " <a class=\"label\" data-format=\"html\" data-organization=\"National Oceanic and Atmospheric Administration, Department of Commerce\" href=\"ftp://ftp.ncdc.noaa.gov/pub/data/normals/1981-2010/\" target=\"_blank\">HTML</a>\n",
       " </li>\n",
       " <li>\n",
       " <a class=\"label\" data-format=\"html\" data-organization=\"National Oceanic and Atmospheric Administration, Department of Commerce\" href=\"https://www.ncdc.noaa.gov/cdo-web/search?datasetid=NORMAL_DLY\" target=\"_blank\">HTML</a>\n",
       " </li>\n",
       " <li>\n",
       " <a class=\"label\" data-format=\"html\" data-organization=\"National Oceanic and Atmospheric Administration, Department of Commerce\" href=\"https://gis.ncdc.noaa.gov/maps/ncei/normals&amp;layers=01\" target=\"_blank\">HTML</a>\n",
       " </li>\n",
       " <li>\n",
       " <a class=\"label\" data-format=\"esri rest\" data-organization=\"National Oceanic and Atmospheric Administration, Department of Commerce\" href=\"https://gis.ncdc.noaa.gov/arcgis/rest/services/cdo/normals/MapServer\" target=\"_blank\">Esri REST</a>\n",
       " </li>\n",
       " <li>\n",
       " <a class=\"label\" data-format=\"kmz\" data-organization=\"National Oceanic and Atmospheric Administration, Department of Commerce\" href=\"/dataset/u-s-daily-climate-normals-1981-2010/resource/c40498cb-b9f9-4c52-93bb-4abb3df4e0ff\">KMZ</a>\n",
       " </li>\n",
       " <li>\n",
       " <a class=\"more\" href=\"/dataset/u-s-daily-climate-normals-1981-2010\">18 more in dataset</a>\n",
       " </li>\n",
       " </ul>\n",
       " </div>, <div class=\"dataset-content\">\n",
       " <div class=\"organization-type-wrap\">\n",
       " <span class=\"organization-type\" data-organization-type=\"federal\" title=\"Federal Government\">\n",
       " <span>Federal</span>\n",
       " </span>\n",
       " </div>\n",
       " <h3 class=\"dataset-heading\">\n",
       " <a href=\"/dataset/food-price-outlook\">Food Price Outlook</a>\n",
       " <!-- Snippet snippets/popular.html start -->\n",
       " <span class=\"recent-views\" title=\"219 recent views\" xmlns=\"http://www.w3.org/1999/xhtml\">\n",
       " <i class=\"fa fa-line-chart\"/> 219 recent views\n",
       " </span>\n",
       " <!-- Snippet snippets/popular.html end -->\n",
       " </h3>\n",
       " <div class=\"notes\">\n",
       " <p class=\"dataset-organization\">Department of Agriculture </p>\n",
       " <div>The Consumer Price Index (CPI) for food is a component of the all-items CPI. The CPI measures the average change over time in the prices paid by urban consumers for...</div>\n",
       " </div>\n",
       " <ul class=\"dataset-resources unstyled\">\n",
       " <li>\n",
       " <a class=\"label\" data-format=\"xls\" data-organization=\"Department of Agriculture\" href=\"http://www.ers.usda.gov/data-products/food-price-outlook.aspx\">XLS</a>\n",
       " </li>\n",
       " </ul>\n",
       " </div>, <div class=\"dataset-content\">\n",
       " <div class=\"organization-type-wrap\">\n",
       " <span class=\"organization-type\" data-organization-type=\"federal\" title=\"Federal Government\">\n",
       " <span>Federal</span>\n",
       " </span>\n",
       " </div>\n",
       " <h3 class=\"dataset-heading\">\n",
       " <a href=\"/dataset/quick-stats-agricultural-database\">Quick Stats Agricultural Database</a>\n",
       " <!-- Snippet snippets/popular.html start -->\n",
       " <span class=\"recent-views\" title=\"184 recent views\" xmlns=\"http://www.w3.org/1999/xhtml\">\n",
       " <i class=\"fa fa-line-chart\"/> 184 recent views\n",
       " </span>\n",
       " <!-- Snippet snippets/popular.html end -->\n",
       " </h3>\n",
       " <div class=\"notes\">\n",
       " <p class=\"dataset-organization\">Department of Agriculture </p>\n",
       " <div>Quick Stats is the National Agricultural Statistics Service's (NASS) online, self-service tool to access complete results from the 1997, 2002, 2007, and 2012...</div>\n",
       " </div>\n",
       " <ul class=\"dataset-resources unstyled\">\n",
       " <li>\n",
       " <a class=\"label\" data-format=\"html\" data-organization=\"Department of Agriculture\" href=\"https://quickstats.nass.usda.gov\" target=\"_blank\">HTML</a>\n",
       " </li>\n",
       " <li>\n",
       " <a class=\"label\" data-format=\"api\" data-organization=\"Department of Agriculture\" href=\"https://quickstats.nass.usda.gov/api\" target=\"_blank\">API</a>\n",
       " </li>\n",
       " </ul>\n",
       " </div>, <div class=\"dataset-content\">\n",
       " <div class=\"organization-type-wrap\">\n",
       " <span class=\"organization-type\" data-organization-type=\"federal\" title=\"Federal Government\">\n",
       " <span>Federal</span>\n",
       " </span>\n",
       " </div>\n",
       " <h3 class=\"dataset-heading\">\n",
       " <a href=\"/dataset/military-installations-ranges-and-training-areas\">Military Installations, Ranges, and Training Areas</a>\n",
       " <!-- Snippet snippets/popular.html start -->\n",
       " <span class=\"recent-views\" title=\"181 recent views\" xmlns=\"http://www.w3.org/1999/xhtml\">\n",
       " <i class=\"fa fa-line-chart\"/> 181 recent views\n",
       " </span>\n",
       " <!-- Snippet snippets/popular.html end -->\n",
       " </h3>\n",
       " <div class=\"notes\">\n",
       " <p class=\"dataset-organization\">Department of Defense </p>\n",
       " <div>This dataset, released by DoD, contains geographic information for major installations, ranges, and training areas in the United States and its territories. This...</div>\n",
       " </div>\n",
       " <ul class=\"dataset-resources unstyled\">\n",
       " <li>\n",
       " <a class=\"label\" data-format=\"zip\" data-organization=\"Department of Defense\" href=\"http://www.acq.osd.mil/eie/Downloads/DISDI/installations_ranges.zip\">ZIP</a>\n",
       " </li>\n",
       " </ul>\n",
       " </div>, <div class=\"dataset-content\">\n",
       " <div class=\"organization-type-wrap\">\n",
       " <span class=\"organization-type\" data-organization-type=\"federal\" title=\"Federal Government\">\n",
       " <span>Federal</span>\n",
       " </span>\n",
       " </div>\n",
       " <h3 class=\"dataset-heading\">\n",
       " <a href=\"/dataset/soil-survey-geographic-ssurgo-database-for-various-soil-survey-areas-in-the-united-states-\">Soil Survey Geographic Database (SSURGO)</a>\n",
       " <!-- Snippet snippets/popular.html start -->\n",
       " <span class=\"recent-views\" title=\"180 recent views\" xmlns=\"http://www.w3.org/1999/xhtml\">\n",
       " <i class=\"fa fa-line-chart\"/> 180 recent views\n",
       " </span>\n",
       " <!-- Snippet snippets/popular.html end -->\n",
       " </h3>\n",
       " <div class=\"notes\">\n",
       " <p class=\"dataset-organization\">Department of Agriculture </p>\n",
       " <div>This dataset is a digital soil survey and generally is the most detailed level of soil geographic data developed by the National Cooperative Soil Survey. The...</div>\n",
       " </div>\n",
       " <ul class=\"dataset-resources unstyled\">\n",
       " <li>\n",
       " <a class=\"label\" data-format=\"html\" data-organization=\"Department of Agriculture\" href=\"http://datagateway.nrcs.usda.gov\" target=\"_blank\">HTML</a>\n",
       " </li>\n",
       " <li>\n",
       " <a class=\"label\" data-format=\"html\" data-organization=\"Department of Agriculture\" href=\"http://datagateway.nrcs.usda.gov\" target=\"_blank\">HTML</a>\n",
       " </li>\n",
       " </ul>\n",
       " </div>, <div class=\"dataset-content\">\n",
       " <div class=\"organization-type-wrap\">\n",
       " <span class=\"organization-type\" data-organization-type=\"federal\" title=\"Federal Government\">\n",
       " <span>Federal</span>\n",
       " </span>\n",
       " </div>\n",
       " <h3 class=\"dataset-heading\">\n",
       " <a href=\"/dataset/feed-grains-database\">Feed Grains Database</a>\n",
       " <!-- Snippet snippets/popular.html start -->\n",
       " <span class=\"recent-views\" title=\"155 recent views\" xmlns=\"http://www.w3.org/1999/xhtml\">\n",
       " <i class=\"fa fa-line-chart\"/> 155 recent views\n",
       " </span>\n",
       " <!-- Snippet snippets/popular.html end -->\n",
       " </h3>\n",
       " <div class=\"notes\">\n",
       " <p class=\"dataset-organization\">Department of Agriculture </p>\n",
       " <div>The Feed Grains Database contains statistics on four feed grains (corn, grain sorghum, barley, and oats), foreign coarse grains (feed grains plus rye, millet, and...</div>\n",
       " </div>\n",
       " <ul class=\"dataset-resources unstyled\">\n",
       " <li>\n",
       " <a class=\"label\" data-format=\"html\" data-organization=\"Department of Agriculture\" href=\"http://www.ers.usda.gov/data-products/feed-grains-database/feed-grains-custom-query.aspx\" target=\"_blank\">HTML</a>\n",
       " </li>\n",
       " <li>\n",
       " <a class=\"label\" data-format=\"csv\" data-organization=\"Department of Agriculture\" href=\"https://www.ers.usda.gov/webdocs/DataFiles/Feed_Grains_Yearbook_Tables__18027/FeedGrains.zip?v=42780\">CSV</a>\n",
       " </li>\n",
       " <li>\n",
       " <a class=\"label\" data-format=\"xls\" data-organization=\"Department of Agriculture\" href=\"https://www.ers.usda.gov/webdocs/DataFiles/Feed_Grains_Yearbook_Tables__18027/Feed%20Grains%20Yearbook%20Tables-Recent.xls?v=42780\">XLS</a>\n",
       " </li>\n",
       " <li>\n",
       " <a class=\"label\" data-format=\"xls\" data-organization=\"Department of Agriculture\" href=\"https://www.ers.usda.gov/webdocs/DataFiles/Feed_Grains_Yearbook_Tables__18027/Feed%20Grains%20Yearbook%20Tables-All%20Years.xls?v=42780\">XLS</a>\n",
       " </li>\n",
       " </ul>\n",
       " </div>]"
      ]
     },
     "execution_count": 8,
     "metadata": {},
     "output_type": "execute_result"
    }
   ],
   "source": [
    "collset_content"
   ]
  },
  {
   "cell_type": "code",
   "execution_count": 9,
   "metadata": {},
   "outputs": [
    {
     "data": {
      "text/plain": [
       "bs4.element.Tag"
      ]
     },
     "execution_count": 9,
     "metadata": {},
     "output_type": "execute_result"
    }
   ],
   "source": [
    "type(collset_content[0])"
   ]
  },
  {
   "cell_type": "code",
   "execution_count": 10,
   "metadata": {
    "collapsed": true
   },
   "outputs": [],
   "source": [
    "collset1 = collset_content[0]"
   ]
  },
  {
   "cell_type": "code",
   "execution_count": 11,
   "metadata": {},
   "outputs": [
    {
     "name": "stdout",
     "output_type": "stream",
     "text": [
      "<div class=\"dataset-content\">\n",
      " <div class=\"organization-type-wrap\">\n",
      "  <span class=\"organization-type\" data-organization-type=\"federal\" title=\"Federal Government\">\n",
      "   <span>\n",
      "    Federal\n",
      "   </span>\n",
      "  </span>\n",
      " </div>\n",
      " <h3 class=\"dataset-heading\">\n",
      "  <a href=\"/dataset/u-s-hourly-precipitation-data\">\n",
      "   U.S. Hourly Precipitation Data\n",
      "  </a>\n",
      "  <!-- Snippet snippets/popular.html start -->\n",
      "  <span class=\"recent-views\" title=\"1063 recent views\" xmlns=\"http://www.w3.org/1999/xhtml\">\n",
      "   <i class=\"fa fa-line-chart\"/>\n",
      "   1063 recent views\n",
      "  </span>\n",
      "  <!-- Snippet snippets/popular.html end -->\n",
      " </h3>\n",
      " <div class=\"notes\">\n",
      "  <p class=\"dataset-organization\">\n",
      "   National Oceanic and Atmospheric Administration, Department of Commerce\n",
      "  </p>\n",
      "  <div>\n",
      "   Hourly Precipitation Data (HPD) is digital data set DSI-3240, archived at the National Climatic Data Center (NCDC). The primary source of data for this file is...\n",
      "  </div>\n",
      " </div>\n",
      " <ul class=\"dataset-resources unstyled\">\n",
      "  <li>\n",
      "   <a class=\"label\" data-format=\"html\" data-organization=\"National Oceanic and Atmospheric Administration, Department of Commerce\" href=\"https://data.nodc.noaa.gov/cgi-bin/iso?id=gov.noaa.ncdc:C00313\" target=\"_blank\">\n",
      "    HTML\n",
      "   </a>\n",
      "  </li>\n",
      "  <li>\n",
      "   <a class=\"label\" data-format=\"html\" data-organization=\"National Oceanic and Atmospheric Administration, Department of Commerce\" href=\"https://www.ncdc.noaa.gov/cdo-web/search?datasetid=PRECIP_HLY#\" target=\"_blank\">\n",
      "    HTML\n",
      "   </a>\n",
      "  </li>\n",
      "  <li>\n",
      "   <a class=\"label\" data-format=\"html\" data-organization=\"National Oceanic and Atmospheric Administration, Department of Commerce\" href=\"https://gis.ncdc.noaa.gov/maps/ncei/cdo/hourly?layers=001\" target=\"_blank\">\n",
      "    HTML\n",
      "   </a>\n",
      "  </li>\n",
      "  <li>\n",
      "   <a class=\"label\" data-format=\"html\" data-organization=\"National Oceanic and Atmospheric Administration, Department of Commerce\" href=\"ftp://ftp.ncdc.noaa.gov/pub/data/hourly_precip-3240/\" target=\"_blank\">\n",
      "    HTML\n",
      "   </a>\n",
      "  </li>\n",
      "  <li>\n",
      "   <a class=\"label\" data-format=\"esri rest\" data-organization=\"National Oceanic and Atmospheric Administration, Department of Commerce\" href=\"https://gis.ncdc.noaa.gov/arcgis/rest/services/cdo/precip_hly/MapServer\" target=\"_blank\">\n",
      "    Esri REST\n",
      "   </a>\n",
      "  </li>\n",
      "  <li>\n",
      "   <a class=\"label\" data-format=\"kmz\" data-organization=\"National Oceanic and Atmospheric Administration, Department of Commerce\" href=\"/dataset/u-s-hourly-precipitation-data/resource/126aedd4-9d30-4a8f-86c4-144575762fb2\">\n",
      "    KMZ\n",
      "   </a>\n",
      "  </li>\n",
      "  <li>\n",
      "   <a class=\"more\" href=\"/dataset/u-s-hourly-precipitation-data\">\n",
      "    11 more in dataset\n",
      "   </a>\n",
      "  </li>\n",
      " </ul>\n",
      "</div>\n",
      "\n"
     ]
    }
   ],
   "source": [
    "print(collset1.prettify())"
   ]
  },
  {
   "cell_type": "code",
   "execution_count": 12,
   "metadata": {},
   "outputs": [
    {
     "data": {
      "text/plain": [
       "'div'"
      ]
     },
     "execution_count": 12,
     "metadata": {},
     "output_type": "execute_result"
    }
   ],
   "source": [
    "collset1.name"
   ]
  },
  {
   "cell_type": "code",
   "execution_count": 13,
   "metadata": {},
   "outputs": [
    {
     "data": {
      "text/plain": [
       "{'class': 'dataset-content'}"
      ]
     },
     "execution_count": 13,
     "metadata": {},
     "output_type": "execute_result"
    }
   ],
   "source": [
    "collset1.attrs"
   ]
  },
  {
   "cell_type": "code",
   "execution_count": 14,
   "metadata": {},
   "outputs": [
    {
     "data": {
      "text/plain": [
       "'dataset-content'"
      ]
     },
     "execution_count": 14,
     "metadata": {},
     "output_type": "execute_result"
    }
   ],
   "source": [
    "collset1['class']"
   ]
  },
  {
   "cell_type": "code",
   "execution_count": 15,
   "metadata": {},
   "outputs": [
    {
     "name": "stdout",
     "output_type": "stream",
     "text": [
      "None\n",
      "div\n",
      "None\n",
      "h3\n",
      "None\n",
      "div\n",
      "None\n",
      "ul\n",
      "None\n"
     ]
    }
   ],
   "source": [
    "for child in collset1.children:\n",
    "    print(child.name)"
   ]
  },
  {
   "cell_type": "code",
   "execution_count": 16,
   "metadata": {},
   "outputs": [
    {
     "data": {
      "text/plain": [
       "[<li>\n",
       " <a class=\"label\" data-format=\"html\" data-organization=\"National Oceanic and Atmospheric Administration, Department of Commerce\" href=\"https://data.nodc.noaa.gov/cgi-bin/iso?id=gov.noaa.ncdc:C00313\" target=\"_blank\">HTML</a>\n",
       " </li>, <li>\n",
       " <a class=\"label\" data-format=\"html\" data-organization=\"National Oceanic and Atmospheric Administration, Department of Commerce\" href=\"https://www.ncdc.noaa.gov/cdo-web/search?datasetid=PRECIP_HLY#\" target=\"_blank\">HTML</a>\n",
       " </li>, <li>\n",
       " <a class=\"label\" data-format=\"html\" data-organization=\"National Oceanic and Atmospheric Administration, Department of Commerce\" href=\"https://gis.ncdc.noaa.gov/maps/ncei/cdo/hourly?layers=001\" target=\"_blank\">HTML</a>\n",
       " </li>, <li>\n",
       " <a class=\"label\" data-format=\"html\" data-organization=\"National Oceanic and Atmospheric Administration, Department of Commerce\" href=\"ftp://ftp.ncdc.noaa.gov/pub/data/hourly_precip-3240/\" target=\"_blank\">HTML</a>\n",
       " </li>, <li>\n",
       " <a class=\"label\" data-format=\"esri rest\" data-organization=\"National Oceanic and Atmospheric Administration, Department of Commerce\" href=\"https://gis.ncdc.noaa.gov/arcgis/rest/services/cdo/precip_hly/MapServer\" target=\"_blank\">Esri REST</a>\n",
       " </li>, <li>\n",
       " <a class=\"label\" data-format=\"kmz\" data-organization=\"National Oceanic and Atmospheric Administration, Department of Commerce\" href=\"/dataset/u-s-hourly-precipitation-data/resource/126aedd4-9d30-4a8f-86c4-144575762fb2\">KMZ</a>\n",
       " </li>, <li>\n",
       " <a class=\"more\" href=\"/dataset/u-s-hourly-precipitation-data\">11 more in dataset</a>\n",
       " </li>]"
      ]
     },
     "execution_count": 16,
     "metadata": {},
     "output_type": "execute_result"
    }
   ],
   "source": [
    "collset1.ul.find_all('li')"
   ]
  },
  {
   "cell_type": "markdown",
   "metadata": {},
   "source": [
    "While going through the list items is one way to extract the dataset url's, I'd rather just use the 'a' tag instead."
   ]
  },
  {
   "cell_type": "code",
   "execution_count": 17,
   "metadata": {
    "collapsed": true
   },
   "outputs": [],
   "source": [
    "aset1 = collset1.find_all('a')"
   ]
  },
  {
   "cell_type": "code",
   "execution_count": 18,
   "metadata": {},
   "outputs": [
    {
     "name": "stdout",
     "output_type": "stream",
     "text": [
      "[<a href=\"/dataset/u-s-hourly-precipitation-data\">U.S. Hourly Precipitation Data</a>, <a class=\"label\" data-format=\"html\" data-organization=\"National Oceanic and Atmospheric Administration, Department of Commerce\" href=\"https://data.nodc.noaa.gov/cgi-bin/iso?id=gov.noaa.ncdc:C00313\" target=\"_blank\">HTML</a>, <a class=\"label\" data-format=\"html\" data-organization=\"National Oceanic and Atmospheric Administration, Department of Commerce\" href=\"https://www.ncdc.noaa.gov/cdo-web/search?datasetid=PRECIP_HLY#\" target=\"_blank\">HTML</a>, <a class=\"label\" data-format=\"html\" data-organization=\"National Oceanic and Atmospheric Administration, Department of Commerce\" href=\"https://gis.ncdc.noaa.gov/maps/ncei/cdo/hourly?layers=001\" target=\"_blank\">HTML</a>, <a class=\"label\" data-format=\"html\" data-organization=\"National Oceanic and Atmospheric Administration, Department of Commerce\" href=\"ftp://ftp.ncdc.noaa.gov/pub/data/hourly_precip-3240/\" target=\"_blank\">HTML</a>, <a class=\"label\" data-format=\"esri rest\" data-organization=\"National Oceanic and Atmospheric Administration, Department of Commerce\" href=\"https://gis.ncdc.noaa.gov/arcgis/rest/services/cdo/precip_hly/MapServer\" target=\"_blank\">Esri REST</a>, <a class=\"label\" data-format=\"kmz\" data-organization=\"National Oceanic and Atmospheric Administration, Department of Commerce\" href=\"/dataset/u-s-hourly-precipitation-data/resource/126aedd4-9d30-4a8f-86c4-144575762fb2\">KMZ</a>, <a class=\"more\" href=\"/dataset/u-s-hourly-precipitation-data\">11 more in dataset</a>]\n"
     ]
    }
   ],
   "source": [
    "print(aset1)"
   ]
  },
  {
   "cell_type": "markdown",
   "metadata": {},
   "source": [
    "Here is the title of the dataset collection, let's make a script to extract the title and href's from the 'a' tags."
   ]
  },
  {
   "cell_type": "code",
   "execution_count": 19,
   "metadata": {},
   "outputs": [
    {
     "data": {
      "text/plain": [
       "'U.S. Hourly Precipitation Data'"
      ]
     },
     "execution_count": 19,
     "metadata": {},
     "output_type": "execute_result"
    }
   ],
   "source": [
    "aset1[0].text"
   ]
  },
  {
   "cell_type": "code",
   "execution_count": 20,
   "metadata": {},
   "outputs": [
    {
     "data": {
      "text/plain": [
       "{'href': '/dataset/u-s-hourly-precipitation-data'}"
      ]
     },
     "execution_count": 20,
     "metadata": {},
     "output_type": "execute_result"
    }
   ],
   "source": [
    "aset1[0].attrs"
   ]
  },
  {
   "cell_type": "code",
   "execution_count": 21,
   "metadata": {
    "collapsed": true
   },
   "outputs": [],
   "source": [
    "adict = {'label':[],'coll':[],'more':[]}\n",
    "for a in aset1:\n",
    "    try:\n",
    "        adict[a['class']].append(a['href'])\n",
    "    except KeyError:\n",
    "        adict['coll'].append(a['href'])\n",
    "        collname = a.text.strip()"
   ]
  },
  {
   "cell_type": "code",
   "execution_count": 22,
   "metadata": {},
   "outputs": [
    {
     "data": {
      "text/plain": [
       "'U.S. Hourly Precipitation Data'"
      ]
     },
     "execution_count": 22,
     "metadata": {},
     "output_type": "execute_result"
    }
   ],
   "source": [
    "collname"
   ]
  },
  {
   "cell_type": "code",
   "execution_count": 23,
   "metadata": {},
   "outputs": [
    {
     "data": {
      "text/plain": [
       "{'coll': ['/dataset/u-s-hourly-precipitation-data'],\n",
       " 'label': ['https://data.nodc.noaa.gov/cgi-bin/iso?id=gov.noaa.ncdc:C00313',\n",
       "  'https://www.ncdc.noaa.gov/cdo-web/search?datasetid=PRECIP_HLY#',\n",
       "  'https://gis.ncdc.noaa.gov/maps/ncei/cdo/hourly?layers=001',\n",
       "  'ftp://ftp.ncdc.noaa.gov/pub/data/hourly_precip-3240/',\n",
       "  'https://gis.ncdc.noaa.gov/arcgis/rest/services/cdo/precip_hly/MapServer',\n",
       "  '/dataset/u-s-hourly-precipitation-data/resource/126aedd4-9d30-4a8f-86c4-144575762fb2'],\n",
       " 'more': ['/dataset/u-s-hourly-precipitation-data']}"
      ]
     },
     "execution_count": 23,
     "metadata": {},
     "output_type": "execute_result"
    }
   ],
   "source": [
    "adict"
   ]
  },
  {
   "cell_type": "markdown",
   "metadata": {},
   "source": [
    "We are also able to get the description component of the collection."
   ]
  },
  {
   "cell_type": "code",
   "execution_count": 24,
   "metadata": {
    "collapsed": true
   },
   "outputs": [],
   "source": [
    "collnotes = collset1.find('div',attrs={'class':'notes'})"
   ]
  },
  {
   "cell_type": "code",
   "execution_count": 25,
   "metadata": {},
   "outputs": [
    {
     "name": "stdout",
     "output_type": "stream",
     "text": [
      "<div class=\"notes\">\n",
      " <p class=\"dataset-organization\">\n",
      "  National Oceanic and Atmospheric Administration, Department of Commerce\n",
      " </p>\n",
      " <div>\n",
      "  Hourly Precipitation Data (HPD) is digital data set DSI-3240, archived at the National Climatic Data Center (NCDC). The primary source of data for this file is...\n",
      " </div>\n",
      "</div>\n",
      "\n"
     ]
    }
   ],
   "source": [
    "print(collnotes.prettify())"
   ]
  },
  {
   "cell_type": "code",
   "execution_count": 26,
   "metadata": {},
   "outputs": [
    {
     "data": {
      "text/plain": [
       "'National Oceanic and Atmospheric Administration, Department of Commerce'"
      ]
     },
     "execution_count": 26,
     "metadata": {},
     "output_type": "execute_result"
    }
   ],
   "source": [
    "collnotes.p.text.strip()"
   ]
  },
  {
   "cell_type": "code",
   "execution_count": 27,
   "metadata": {},
   "outputs": [
    {
     "data": {
      "text/plain": [
       "'Hourly Precipitation Data (HPD) is digital data set DSI-3240, archived at the National Climatic Data Center (NCDC). The primary source of data for this file is...'"
      ]
     },
     "execution_count": 27,
     "metadata": {},
     "output_type": "execute_result"
    }
   ],
   "source": [
    "collnotes.div.text.strip()"
   ]
  },
  {
   "cell_type": "code",
   "execution_count": 28,
   "metadata": {
    "collapsed": true
   },
   "outputs": [],
   "source": [
    "collorg = collnotes.p.text.strip()\n",
    "colldesc = collnotes.div.text.strip()"
   ]
  },
  {
   "cell_type": "markdown",
   "metadata": {},
   "source": [
    "Now that we have some code to process the collection html, let's create a def to modularize this section."
   ]
  },
  {
   "cell_type": "code",
   "execution_count": 29,
   "metadata": {
    "collapsed": true
   },
   "outputs": [],
   "source": [
    "def process_collset(collset1):\n",
    "    \"\"\"\n",
    "    Processes the data.gov html within the tags <div class = dataset-content>...\n",
    "    Input: html string\n",
    "    Output: tuple of title (string), organization (string), \n",
    "      description (string), hrefs (dictionary)\n",
    "    \"\"\"\n",
    "    aset1 = collset1.find_all('a')\n",
    "    adict = {'label':[],'coll':[],'more':[]}\n",
    "    for a in aset1:\n",
    "        try:\n",
    "            adict[a['class']].append(a['href'])\n",
    "        except KeyError:\n",
    "            adict['coll'].append(a['href'])\n",
    "            collname = a.text.strip()\n",
    "    collnotes = collset1.find('div',attrs={'class':'notes'})\n",
    "    collorg = collnotes.p.text.strip()\n",
    "    colldescdiv = collnotes.div\n",
    "    if colldescdiv:\n",
    "        colldesc = colldescdiv.text.strip()\n",
    "    else:\n",
    "        colldesc = \"\"\n",
    "    return collname, collorg, colldesc, adict"
   ]
  },
  {
   "cell_type": "code",
   "execution_count": 30,
   "metadata": {},
   "outputs": [
    {
     "name": "stdout",
     "output_type": "stream",
     "text": [
      "Help on function process_collset in module __main__:\n",
      "\n",
      "process_collset(collset1)\n",
      "    Processes the data.gov html within the tags <div class = dataset-content>...\n",
      "    Input: html string\n",
      "    Output: tuple of title (string), organization (string), \n",
      "      description (string), hrefs (dictionary)\n",
      "\n"
     ]
    }
   ],
   "source": [
    "help(process_collset)"
   ]
  },
  {
   "cell_type": "code",
   "execution_count": 31,
   "metadata": {
    "collapsed": true
   },
   "outputs": [],
   "source": [
    "collname, collorg, colldesc, adict = process_collset(collset1)"
   ]
  },
  {
   "cell_type": "code",
   "execution_count": 32,
   "metadata": {},
   "outputs": [
    {
     "data": {
      "text/plain": [
       "'U.S. Hourly Precipitation Data'"
      ]
     },
     "execution_count": 32,
     "metadata": {},
     "output_type": "execute_result"
    }
   ],
   "source": [
    "collname"
   ]
  },
  {
   "cell_type": "code",
   "execution_count": 33,
   "metadata": {},
   "outputs": [
    {
     "data": {
      "text/plain": [
       "'National Oceanic and Atmospheric Administration, Department of Commerce'"
      ]
     },
     "execution_count": 33,
     "metadata": {},
     "output_type": "execute_result"
    }
   ],
   "source": [
    "collorg"
   ]
  },
  {
   "cell_type": "code",
   "execution_count": 34,
   "metadata": {},
   "outputs": [
    {
     "data": {
      "text/plain": [
       "'Hourly Precipitation Data (HPD) is digital data set DSI-3240, archived at the National Climatic Data Center (NCDC). The primary source of data for this file is...'"
      ]
     },
     "execution_count": 34,
     "metadata": {},
     "output_type": "execute_result"
    }
   ],
   "source": [
    "colldesc"
   ]
  },
  {
   "cell_type": "code",
   "execution_count": 35,
   "metadata": {},
   "outputs": [
    {
     "data": {
      "text/plain": [
       "{'coll': ['/dataset/u-s-hourly-precipitation-data'],\n",
       " 'label': ['https://data.nodc.noaa.gov/cgi-bin/iso?id=gov.noaa.ncdc:C00313',\n",
       "  'https://www.ncdc.noaa.gov/cdo-web/search?datasetid=PRECIP_HLY#',\n",
       "  'https://gis.ncdc.noaa.gov/maps/ncei/cdo/hourly?layers=001',\n",
       "  'ftp://ftp.ncdc.noaa.gov/pub/data/hourly_precip-3240/',\n",
       "  'https://gis.ncdc.noaa.gov/arcgis/rest/services/cdo/precip_hly/MapServer',\n",
       "  '/dataset/u-s-hourly-precipitation-data/resource/126aedd4-9d30-4a8f-86c4-144575762fb2'],\n",
       " 'more': ['/dataset/u-s-hourly-precipitation-data']}"
      ]
     },
     "execution_count": 35,
     "metadata": {},
     "output_type": "execute_result"
    }
   ],
   "source": [
    "adict"
   ]
  },
  {
   "cell_type": "code",
   "execution_count": 36,
   "metadata": {},
   "outputs": [
    {
     "name": "stdout",
     "output_type": "stream",
     "text": [
      "U.S. Hourly Precipitation Data\n",
      "1 meter Digital Elevation Models (DEMs) - USGS National Map 3DEP Downloadable Data Collection\n",
      "Fruit and Vegetable Prices\n",
      "American FactFinder II\n",
      "National Flood Hazard Layer (NFHL)\n",
      "USGS National Transportation Dataset (NTD) Downloadable Data Collection\n",
      "Food Environment Atlas\n",
      "Statistical Abstract of the United States\n",
      "USGS US Topo Map Collection\n",
      "Farm Programs Payments\n",
      "FluView National Flu Activity Map\n",
      "NCDC Storm Events Database\n",
      "Population Estimates\n",
      "National Hydrography Dataset (NHD) - USGS National Map Downloadable Data Collection\n",
      "U.S. Daily Climate Normals (1981-2010)\n",
      "Food Price Outlook\n",
      "Quick Stats Agricultural Database\n",
      "Military Installations, Ranges, and Training Areas\n",
      "Soil Survey Geographic Database (SSURGO)\n",
      "Feed Grains Database\n"
     ]
    }
   ],
   "source": [
    "for collset in collset_content:\n",
    "    collname = process_collset(collset)[0]\n",
    "    print(collname)"
   ]
  },
  {
   "cell_type": "markdown",
   "metadata": {},
   "source": [
    "Let's modularize the queries from data.gov."
   ]
  },
  {
   "cell_type": "code",
   "execution_count": 37,
   "metadata": {
    "collapsed": true
   },
   "outputs": [],
   "source": [
    "def clim_page(urlbase = \"https://catalog.data.gov/dataset\", groups=\"climate5434\",\n",
    "              page=1):\n",
    "    \"\"\"\n",
    "    Queries the data.gov climate change data search for a specific page\n",
    "    Input: urlbase, groups, page (strings)\n",
    "    Output: list of dataset-content \n",
    "    \"\"\"\n",
    "    dataparams = {\"groups\":groups,\"page\":page}\n",
    "    climreq = requests.get(urlbase,params = dataparams)\n",
    "    clim_bs = BeautifulSoup(climreq.text,'lxml-xml')\n",
    "    collset_content = clim_bs.find_all(name='div',attrs={'class':'dataset-content'})\n",
    "    return collset_content"
   ]
  },
  {
   "cell_type": "code",
   "execution_count": 38,
   "metadata": {
    "collapsed": true
   },
   "outputs": [],
   "source": [
    "clim = clim_page(page=2)"
   ]
  },
  {
   "cell_type": "code",
   "execution_count": 39,
   "metadata": {},
   "outputs": [
    {
     "name": "stdout",
     "output_type": "stream",
     "text": [
      "['1/3rd arc-second Digital Elevation Models (DEMs) - USGS National Map 3DEP Downloadable Data Collection', 'National Solar Radiation Data Base', 'MyPyramid Food Raw Data', 'CDC WONDER: Cancer Statistics', 'Total Energy Data and Statistics', 'USGS Water-Quality Data for the Nation - National Water Information System (NWIS)', 'USGS National Structures Dataset - USGS National Map Downloadable Data Collection', 'Commodity Flow Survey', 'Population by Country (1980 - 2010)', 'Aquaculture Data', 'Healthcare Cost and Utilization Project (HCUP) - National Inpatient Sample', 'U.S. Food Imports', 'CMS Statistics', 'Census Data', 'United States Renewable Energy Technical Potential', 'U.S. Monthly Climate Normals (1981-2010)', 'CDC WONDER: Births', 'Protected Areas Database of the United States (PAD-US)', 'NOAA Climate Data Record (CDR) of Sea Surface Temperature - WHOI, Version 1.0 (Version Superseded)', 'https://nassgeodata.gmu.edu/CropScape/']\n"
     ]
    }
   ],
   "source": [
    "print([process_collset(c)[0] for c in clim])"
   ]
  },
  {
   "cell_type": "markdown",
   "metadata": {},
   "source": [
    "Here we extract all of the pages from the climate group from data.gov."
   ]
  },
  {
   "cell_type": "code",
   "execution_count": 40,
   "metadata": {
    "collapsed": true
   },
   "outputs": [],
   "source": [
    "page_num_max = 34\n",
    "climate_colls = []\n",
    "for page_num in range(1,page_num_max+1):\n",
    "    try:\n",
    "        clim = clim_page(page=page_num)\n",
    "        if clim != None:\n",
    "            climate_colls += [process_collset(c) for c in clim]\n",
    "        else:\n",
    "            break\n",
    "    except requests.HTTPError:\n",
    "        break"
   ]
  },
  {
   "cell_type": "code",
   "execution_count": 41,
   "metadata": {},
   "outputs": [
    {
     "data": {
      "text/plain": [
       "616"
      ]
     },
     "execution_count": 41,
     "metadata": {},
     "output_type": "execute_result"
    }
   ],
   "source": [
    "climate_colls.__len__()"
   ]
  },
  {
   "cell_type": "code",
   "execution_count": 42,
   "metadata": {},
   "outputs": [
    {
     "data": {
      "text/plain": [
       "{'coll': ['/dataset/u-s-hourly-precipitation-data'],\n",
       " 'label': ['https://data.nodc.noaa.gov/cgi-bin/iso?id=gov.noaa.ncdc:C00313',\n",
       "  'https://www.ncdc.noaa.gov/cdo-web/search?datasetid=PRECIP_HLY#',\n",
       "  'https://gis.ncdc.noaa.gov/maps/ncei/cdo/hourly?layers=001',\n",
       "  'ftp://ftp.ncdc.noaa.gov/pub/data/hourly_precip-3240/',\n",
       "  'https://gis.ncdc.noaa.gov/arcgis/rest/services/cdo/precip_hly/MapServer',\n",
       "  '/dataset/u-s-hourly-precipitation-data/resource/126aedd4-9d30-4a8f-86c4-144575762fb2'],\n",
       " 'more': ['/dataset/u-s-hourly-precipitation-data']}"
      ]
     },
     "execution_count": 42,
     "metadata": {},
     "output_type": "execute_result"
    }
   ],
   "source": [
    "climate_colls[0][3]"
   ]
  },
  {
   "cell_type": "markdown",
   "metadata": {},
   "source": [
    "I'll build a dataframe so that I can count the data collections by organization."
   ]
  },
  {
   "cell_type": "code",
   "execution_count": 43,
   "metadata": {
    "collapsed": true
   },
   "outputs": [],
   "source": [
    "climate_df = pd.DataFrame({'name':c[0],'organization':c[1],'description':c[2]}\n",
    "                          for c in climate_colls)"
   ]
  },
  {
   "cell_type": "code",
   "execution_count": 44,
   "metadata": {},
   "outputs": [
    {
     "data": {
      "text/html": [
       "<div>\n",
       "<style>\n",
       "    .dataframe thead tr:only-child th {\n",
       "        text-align: right;\n",
       "    }\n",
       "\n",
       "    .dataframe thead th {\n",
       "        text-align: left;\n",
       "    }\n",
       "\n",
       "    .dataframe tbody tr th {\n",
       "        vertical-align: top;\n",
       "    }\n",
       "</style>\n",
       "<table border=\"1\" class=\"dataframe\">\n",
       "  <thead>\n",
       "    <tr style=\"text-align: right;\">\n",
       "      <th></th>\n",
       "      <th>description</th>\n",
       "      <th>name</th>\n",
       "      <th>organization</th>\n",
       "    </tr>\n",
       "  </thead>\n",
       "  <tbody>\n",
       "    <tr>\n",
       "      <th>0</th>\n",
       "      <td>Hourly Precipitation Data (HPD) is digital dat...</td>\n",
       "      <td>U.S. Hourly Precipitation Data</td>\n",
       "      <td>National Oceanic and Atmospheric Administratio...</td>\n",
       "    </tr>\n",
       "    <tr>\n",
       "      <th>1</th>\n",
       "      <td>This is a tiled collection of the 3D Elevation...</td>\n",
       "      <td>1 meter Digital Elevation Models (DEMs) - USGS...</td>\n",
       "      <td>U.S. Geological Survey, Department of the Inte...</td>\n",
       "    </tr>\n",
       "    <tr>\n",
       "      <th>2</th>\n",
       "      <td>How much do fruits and vegetables cost? ERS es...</td>\n",
       "      <td>Fruit and Vegetable Prices</td>\n",
       "      <td>Department of Agriculture</td>\n",
       "    </tr>\n",
       "    <tr>\n",
       "      <th>3</th>\n",
       "      <td>American FactFinder is the Census Bureau's onl...</td>\n",
       "      <td>American FactFinder II</td>\n",
       "      <td>Department of Commerce</td>\n",
       "    </tr>\n",
       "    <tr>\n",
       "      <th>4</th>\n",
       "      <td>The National Flood Hazard Layer (NFHL) is a co...</td>\n",
       "      <td>National Flood Hazard Layer (NFHL)</td>\n",
       "      <td>Department of Homeland Security</td>\n",
       "    </tr>\n",
       "    <tr>\n",
       "      <th>5</th>\n",
       "      <td>The USGS Transportation downloadable data from...</td>\n",
       "      <td>USGS National Transportation Dataset (NTD) Dow...</td>\n",
       "      <td>U.S. Geological Survey, Department of the Inte...</td>\n",
       "    </tr>\n",
       "    <tr>\n",
       "      <th>6</th>\n",
       "      <td>Food environment factors--such as store/restau...</td>\n",
       "      <td>Food Environment Atlas</td>\n",
       "      <td>Department of Agriculture</td>\n",
       "    </tr>\n",
       "    <tr>\n",
       "      <th>7</th>\n",
       "      <td>First published in 1878, the Statistical Abstr...</td>\n",
       "      <td>Statistical Abstract of the United States</td>\n",
       "      <td>Department of Commerce</td>\n",
       "    </tr>\n",
       "    <tr>\n",
       "      <th>8</th>\n",
       "      <td>Layered GeoPDF 7.5 Minute Quadrangle Map. Laye...</td>\n",
       "      <td>USGS US Topo Map Collection</td>\n",
       "      <td>U.S. Geological Survey, Department of the Inte...</td>\n",
       "    </tr>\n",
       "    <tr>\n",
       "      <th>9</th>\n",
       "      <td>Payments made by the Department of Agriculture...</td>\n",
       "      <td>Farm Programs Payments</td>\n",
       "      <td>Department of Agriculture</td>\n",
       "    </tr>\n",
       "    <tr>\n",
       "      <th>10</th>\n",
       "      <td>The FluView National Flu Activity Map is a com...</td>\n",
       "      <td>FluView National Flu Activity Map</td>\n",
       "      <td>U.S. Department of Health  Human Services</td>\n",
       "    </tr>\n",
       "    <tr>\n",
       "      <th>11</th>\n",
       "      <td>Storm Data is provided by the National Weather...</td>\n",
       "      <td>NCDC Storm Events Database</td>\n",
       "      <td>National Oceanic and Atmospheric Administratio...</td>\n",
       "    </tr>\n",
       "    <tr>\n",
       "      <th>12</th>\n",
       "      <td>The program publishes estimates of the populat...</td>\n",
       "      <td>Population Estimates</td>\n",
       "      <td>Department of Commerce</td>\n",
       "    </tr>\n",
       "    <tr>\n",
       "      <th>13</th>\n",
       "      <td>The USGS National Hydrography Dataset (NHD) Do...</td>\n",
       "      <td>National Hydrography Dataset (NHD) - USGS Nati...</td>\n",
       "      <td>U.S. Geological Survey, Department of the Inte...</td>\n",
       "    </tr>\n",
       "    <tr>\n",
       "      <th>14</th>\n",
       "      <td>The U.S. Daily Climate Normals for 1981 to 201...</td>\n",
       "      <td>U.S. Daily Climate Normals (1981-2010)</td>\n",
       "      <td>National Oceanic and Atmospheric Administratio...</td>\n",
       "    </tr>\n",
       "    <tr>\n",
       "      <th>15</th>\n",
       "      <td>The Consumer Price Index (CPI) for food is a c...</td>\n",
       "      <td>Food Price Outlook</td>\n",
       "      <td>Department of Agriculture</td>\n",
       "    </tr>\n",
       "    <tr>\n",
       "      <th>16</th>\n",
       "      <td>Quick Stats is the National Agricultural Stati...</td>\n",
       "      <td>Quick Stats Agricultural Database</td>\n",
       "      <td>Department of Agriculture</td>\n",
       "    </tr>\n",
       "    <tr>\n",
       "      <th>17</th>\n",
       "      <td>This dataset, released by DoD, contains geogra...</td>\n",
       "      <td>Military Installations, Ranges, and Training A...</td>\n",
       "      <td>Department of Defense</td>\n",
       "    </tr>\n",
       "    <tr>\n",
       "      <th>18</th>\n",
       "      <td>This dataset is a digital soil survey and gene...</td>\n",
       "      <td>Soil Survey Geographic Database (SSURGO)</td>\n",
       "      <td>Department of Agriculture</td>\n",
       "    </tr>\n",
       "    <tr>\n",
       "      <th>19</th>\n",
       "      <td>The Feed Grains Database contains statistics o...</td>\n",
       "      <td>Feed Grains Database</td>\n",
       "      <td>Department of Agriculture</td>\n",
       "    </tr>\n",
       "    <tr>\n",
       "      <th>20</th>\n",
       "      <td>This is a tiled collection of the 3D Elevation...</td>\n",
       "      <td>1/3rd arc-second Digital Elevation Models (DEM...</td>\n",
       "      <td>U.S. Geological Survey, Department of the Inte...</td>\n",
       "    </tr>\n",
       "    <tr>\n",
       "      <th>21</th>\n",
       "      <td>The National Solar Radiation Data Base (NSRDB)...</td>\n",
       "      <td>National Solar Radiation Data Base</td>\n",
       "      <td>Department of Energy</td>\n",
       "    </tr>\n",
       "    <tr>\n",
       "      <th>22</th>\n",
       "      <td>MyPyramid Food Data provides information on th...</td>\n",
       "      <td>MyPyramid Food Raw Data</td>\n",
       "      <td>Department of Agriculture</td>\n",
       "    </tr>\n",
       "    <tr>\n",
       "      <th>23</th>\n",
       "      <td>The United States Cancer Statistics (USCS) onl...</td>\n",
       "      <td>CDC WONDER: Cancer Statistics</td>\n",
       "      <td>U.S. Department of Health  Human Services</td>\n",
       "    </tr>\n",
       "    <tr>\n",
       "      <th>24</th>\n",
       "      <td>Comprehensive monthly and annual time series o...</td>\n",
       "      <td>Total Energy Data and Statistics</td>\n",
       "      <td>Department of Energy</td>\n",
       "    </tr>\n",
       "    <tr>\n",
       "      <th>25</th>\n",
       "      <td>The USGS compiles online access to water-resou...</td>\n",
       "      <td>USGS Water-Quality Data for the Nation - Natio...</td>\n",
       "      <td>Department of the Interior</td>\n",
       "    </tr>\n",
       "    <tr>\n",
       "      <th>26</th>\n",
       "      <td>USGS Structures from The National Map (TNM) co...</td>\n",
       "      <td>USGS National Structures Dataset - USGS Nation...</td>\n",
       "      <td>U.S. Geological Survey, Department of the Inte...</td>\n",
       "    </tr>\n",
       "    <tr>\n",
       "      <th>27</th>\n",
       "      <td>The Commodity Flow Survey provides information...</td>\n",
       "      <td>Commodity Flow Survey</td>\n",
       "      <td>Department of Commerce</td>\n",
       "    </tr>\n",
       "    <tr>\n",
       "      <th>28</th>\n",
       "      <td>Total population (in millions) by country, 198...</td>\n",
       "      <td>Population by Country (1980 - 2010)</td>\n",
       "      <td>Department of Energy</td>\n",
       "    </tr>\n",
       "    <tr>\n",
       "      <th>29</th>\n",
       "      <td>Aquaculture is the production of aquatic anima...</td>\n",
       "      <td>Aquaculture Data</td>\n",
       "      <td>Department of Agriculture</td>\n",
       "    </tr>\n",
       "    <tr>\n",
       "      <th>...</th>\n",
       "      <td>...</td>\n",
       "      <td>...</td>\n",
       "      <td>...</td>\n",
       "    </tr>\n",
       "    <tr>\n",
       "      <th>586</th>\n",
       "      <td>Total ecosystem carbon includes above- and bel...</td>\n",
       "      <td>Total Ecosystem Carbon Stock</td>\n",
       "      <td>Department of the Interior</td>\n",
       "    </tr>\n",
       "    <tr>\n",
       "      <th>587</th>\n",
       "      <td>The Clouds and the Earth's Radiant Energy Syst...</td>\n",
       "      <td>Clouds and the Earth's Radiant Energy System (...</td>\n",
       "      <td>National Aeronautics and Space Administration</td>\n",
       "    </tr>\n",
       "    <tr>\n",
       "      <th>588</th>\n",
       "      <td>Data for the Near Real-Time SSM/I EASE-Grid Da...</td>\n",
       "      <td>Near Real-Time SSM/I EASE-Grid Daily Global Ic...</td>\n",
       "      <td>National Aeronautics and Space Administration</td>\n",
       "    </tr>\n",
       "    <tr>\n",
       "      <th>589</th>\n",
       "      <td>The global land surface temperature databank c...</td>\n",
       "      <td>International Surface Temperature Initiative (...</td>\n",
       "      <td>National Oceanic and Atmospheric Administratio...</td>\n",
       "    </tr>\n",
       "    <tr>\n",
       "      <th>590</th>\n",
       "      <td>The Intergovernmental Panel on Climate Change ...</td>\n",
       "      <td>IPCC Socio-Economic Baseline Dataset</td>\n",
       "      <td>National Aeronautics and Space Administration</td>\n",
       "    </tr>\n",
       "    <tr>\n",
       "      <th>591</th>\n",
       "      <td>The Arctic Oscillation (AO) is a leading telec...</td>\n",
       "      <td>Climate Prediction Center Monthly(CPC)Arctic O...</td>\n",
       "      <td>National Oceanic and Atmospheric Administratio...</td>\n",
       "    </tr>\n",
       "    <tr>\n",
       "      <th>592</th>\n",
       "      <td>Nadir images taken by automatic time-lapse fro...</td>\n",
       "      <td>Nadir photographs taken during low-altitude tr...</td>\n",
       "      <td>Department of the Interior</td>\n",
       "    </tr>\n",
       "    <tr>\n",
       "      <th>593</th>\n",
       "      <td>This monthly climatology data set contains a s...</td>\n",
       "      <td>NLDAS Noah Land Surface Model L4 Monthly Clima...</td>\n",
       "      <td>National Aeronautics and Space Administration</td>\n",
       "    </tr>\n",
       "    <tr>\n",
       "      <th>594</th>\n",
       "      <td>International Satellite Cloud Climatology Proj...</td>\n",
       "      <td>ISCCP_ICESNOW_NAT</td>\n",
       "      <td>National Aeronautics and Space Administration</td>\n",
       "    </tr>\n",
       "    <tr>\n",
       "      <th>595</th>\n",
       "      <td>These data are water column and sediment data ...</td>\n",
       "      <td>Chemical and isotopic tracers and other data f...</td>\n",
       "      <td>National Oceanic and Atmospheric Administratio...</td>\n",
       "    </tr>\n",
       "    <tr>\n",
       "      <th>596</th>\n",
       "      <td>This data set contains Continuous Airborne Map...</td>\n",
       "      <td>IceBridge CAMBOT L1B Geolocated Images</td>\n",
       "      <td>National Aeronautics and Space Administration</td>\n",
       "    </tr>\n",
       "    <tr>\n",
       "      <th>597</th>\n",
       "      <td>This EnviroAtlas dataset depicts the total len...</td>\n",
       "      <td>EnviroAtlas - 303(d) Impairments by 12-digit H...</td>\n",
       "      <td>U.S. Environmental Protection Agency</td>\n",
       "    </tr>\n",
       "    <tr>\n",
       "      <th>598</th>\n",
       "      <td>The AMSR-E/Aqua Level-3 daily Snow Water Equiv...</td>\n",
       "      <td>AMSR-E/Aqua Daily L3 Global Snow Water Equival...</td>\n",
       "      <td>National Aeronautics and Space Administration</td>\n",
       "    </tr>\n",
       "    <tr>\n",
       "      <th>599</th>\n",
       "      <td>Global Land Data Assimilation System Version 2...</td>\n",
       "      <td>GLDAS Noah Land Surface Model L4 monthly 1.0 x...</td>\n",
       "      <td>National Aeronautics and Space Administration</td>\n",
       "    </tr>\n",
       "    <tr>\n",
       "      <th>600</th>\n",
       "      <td>This data set contains depth sounder measureme...</td>\n",
       "      <td>IceBridge MCoRDS L2 Ice Thickness V001</td>\n",
       "      <td>National Aeronautics and Space Administration</td>\n",
       "    </tr>\n",
       "    <tr>\n",
       "      <th>601</th>\n",
       "      <td>The Clean Watersheds Needs Survey (CWNS) is a ...</td>\n",
       "      <td>EPA Office of Water (OW): Clean Watersheds Nee...</td>\n",
       "      <td>U.S. Environmental Protection Agency</td>\n",
       "    </tr>\n",
       "    <tr>\n",
       "      <th>602</th>\n",
       "      <td></td>\n",
       "      <td>Temperature, salinity and pressure measurement...</td>\n",
       "      <td>National Oceanic and Atmospheric Administratio...</td>\n",
       "    </tr>\n",
       "    <tr>\n",
       "      <th>603</th>\n",
       "      <td>The goal of this initiative is to develop a di...</td>\n",
       "      <td>International Bathymetric Chart of the Arctic ...</td>\n",
       "      <td>National Oceanic and Atmospheric Administratio...</td>\n",
       "    </tr>\n",
       "    <tr>\n",
       "      <th>604</th>\n",
       "      <td>The National Geothermal Data System (NGDS) is ...</td>\n",
       "      <td>National Geothermal Data System</td>\n",
       "      <td>Department of Energy</td>\n",
       "    </tr>\n",
       "    <tr>\n",
       "      <th>605</th>\n",
       "      <td>This NOAA Climate Data Record (CDR) is a recor...</td>\n",
       "      <td>NOAA Climate Data Record (CDR) of Northern Hem...</td>\n",
       "      <td>National Oceanic and Atmospheric Administratio...</td>\n",
       "    </tr>\n",
       "    <tr>\n",
       "      <th>606</th>\n",
       "      <td>Total annual biofuels consumption (Thousand Ba...</td>\n",
       "      <td>Total Biofuels Consumption (2005 - 2009)</td>\n",
       "      <td>Department of Energy</td>\n",
       "    </tr>\n",
       "    <tr>\n",
       "      <th>607</th>\n",
       "      <td>IBCAO Version 3.0 represents the largest impro...</td>\n",
       "      <td>International Bathymetric Chart of the Arctic ...</td>\n",
       "      <td>National Oceanic and Atmospheric Administratio...</td>\n",
       "    </tr>\n",
       "    <tr>\n",
       "      <th>608</th>\n",
       "      <td>The Global Reservoir and Dam Database, Version...</td>\n",
       "      <td>Global Reservoir and Dam Database, Version 1 (...</td>\n",
       "      <td>National Aeronautics and Space Administration</td>\n",
       "    </tr>\n",
       "    <tr>\n",
       "      <th>609</th>\n",
       "      <td>Global Land Data Assimilation System Version 2...</td>\n",
       "      <td>GLDAS Noah Land Surface Model L4 monthly 0.25 ...</td>\n",
       "      <td>National Aeronautics and Space Administration</td>\n",
       "    </tr>\n",
       "    <tr>\n",
       "      <th>610</th>\n",
       "      <td>The Gridded Satellite (GridSat-B1) data provid...</td>\n",
       "      <td>NOAA Climate Data Record (CDR) of Gridded Sate...</td>\n",
       "      <td>National Oceanic and Atmospheric Administratio...</td>\n",
       "    </tr>\n",
       "    <tr>\n",
       "      <th>611</th>\n",
       "      <td>This dataset contains geochemical data for soi...</td>\n",
       "      <td>Geochemistry of soils in the US from the PLUTO...</td>\n",
       "      <td>Department of the Interior</td>\n",
       "    </tr>\n",
       "    <tr>\n",
       "      <th>612</th>\n",
       "      <td>Climate and land-use change are major componen...</td>\n",
       "      <td>ICLUS v1.3 Housing Density for the Conterminou...</td>\n",
       "      <td>U.S. Environmental Protection Agency</td>\n",
       "    </tr>\n",
       "    <tr>\n",
       "      <th>613</th>\n",
       "      <td>This shapefile represents seasonal winter aver...</td>\n",
       "      <td>Ocean Thermal Energy Conversion (OTEC) - Net P...</td>\n",
       "      <td>Department of Energy</td>\n",
       "    </tr>\n",
       "    <tr>\n",
       "      <th>614</th>\n",
       "      <td>The Cost Estimates of Foodborne Illnesses data...</td>\n",
       "      <td>Cost Estimates of Foodborne Illnesses</td>\n",
       "      <td>Department of Agriculture</td>\n",
       "    </tr>\n",
       "    <tr>\n",
       "      <th>615</th>\n",
       "      <td>This data set represents the average populatio...</td>\n",
       "      <td>Attributes for NHDplus Catchments (Version 1.1...</td>\n",
       "      <td>Department of the Interior</td>\n",
       "    </tr>\n",
       "  </tbody>\n",
       "</table>\n",
       "<p>616 rows × 3 columns</p>\n",
       "</div>"
      ],
      "text/plain": [
       "                                           description  \\\n",
       "0    Hourly Precipitation Data (HPD) is digital dat...   \n",
       "1    This is a tiled collection of the 3D Elevation...   \n",
       "2    How much do fruits and vegetables cost? ERS es...   \n",
       "3    American FactFinder is the Census Bureau's onl...   \n",
       "4    The National Flood Hazard Layer (NFHL) is a co...   \n",
       "5    The USGS Transportation downloadable data from...   \n",
       "6    Food environment factors--such as store/restau...   \n",
       "7    First published in 1878, the Statistical Abstr...   \n",
       "8    Layered GeoPDF 7.5 Minute Quadrangle Map. Laye...   \n",
       "9    Payments made by the Department of Agriculture...   \n",
       "10   The FluView National Flu Activity Map is a com...   \n",
       "11   Storm Data is provided by the National Weather...   \n",
       "12   The program publishes estimates of the populat...   \n",
       "13   The USGS National Hydrography Dataset (NHD) Do...   \n",
       "14   The U.S. Daily Climate Normals for 1981 to 201...   \n",
       "15   The Consumer Price Index (CPI) for food is a c...   \n",
       "16   Quick Stats is the National Agricultural Stati...   \n",
       "17   This dataset, released by DoD, contains geogra...   \n",
       "18   This dataset is a digital soil survey and gene...   \n",
       "19   The Feed Grains Database contains statistics o...   \n",
       "20   This is a tiled collection of the 3D Elevation...   \n",
       "21   The National Solar Radiation Data Base (NSRDB)...   \n",
       "22   MyPyramid Food Data provides information on th...   \n",
       "23   The United States Cancer Statistics (USCS) onl...   \n",
       "24   Comprehensive monthly and annual time series o...   \n",
       "25   The USGS compiles online access to water-resou...   \n",
       "26   USGS Structures from The National Map (TNM) co...   \n",
       "27   The Commodity Flow Survey provides information...   \n",
       "28   Total population (in millions) by country, 198...   \n",
       "29   Aquaculture is the production of aquatic anima...   \n",
       "..                                                 ...   \n",
       "586  Total ecosystem carbon includes above- and bel...   \n",
       "587  The Clouds and the Earth's Radiant Energy Syst...   \n",
       "588  Data for the Near Real-Time SSM/I EASE-Grid Da...   \n",
       "589  The global land surface temperature databank c...   \n",
       "590  The Intergovernmental Panel on Climate Change ...   \n",
       "591  The Arctic Oscillation (AO) is a leading telec...   \n",
       "592  Nadir images taken by automatic time-lapse fro...   \n",
       "593  This monthly climatology data set contains a s...   \n",
       "594  International Satellite Cloud Climatology Proj...   \n",
       "595  These data are water column and sediment data ...   \n",
       "596  This data set contains Continuous Airborne Map...   \n",
       "597  This EnviroAtlas dataset depicts the total len...   \n",
       "598  The AMSR-E/Aqua Level-3 daily Snow Water Equiv...   \n",
       "599  Global Land Data Assimilation System Version 2...   \n",
       "600  This data set contains depth sounder measureme...   \n",
       "601  The Clean Watersheds Needs Survey (CWNS) is a ...   \n",
       "602                                                      \n",
       "603  The goal of this initiative is to develop a di...   \n",
       "604  The National Geothermal Data System (NGDS) is ...   \n",
       "605  This NOAA Climate Data Record (CDR) is a recor...   \n",
       "606  Total annual biofuels consumption (Thousand Ba...   \n",
       "607  IBCAO Version 3.0 represents the largest impro...   \n",
       "608  The Global Reservoir and Dam Database, Version...   \n",
       "609  Global Land Data Assimilation System Version 2...   \n",
       "610  The Gridded Satellite (GridSat-B1) data provid...   \n",
       "611  This dataset contains geochemical data for soi...   \n",
       "612  Climate and land-use change are major componen...   \n",
       "613  This shapefile represents seasonal winter aver...   \n",
       "614  The Cost Estimates of Foodborne Illnesses data...   \n",
       "615  This data set represents the average populatio...   \n",
       "\n",
       "                                                  name  \\\n",
       "0                       U.S. Hourly Precipitation Data   \n",
       "1    1 meter Digital Elevation Models (DEMs) - USGS...   \n",
       "2                           Fruit and Vegetable Prices   \n",
       "3                               American FactFinder II   \n",
       "4                   National Flood Hazard Layer (NFHL)   \n",
       "5    USGS National Transportation Dataset (NTD) Dow...   \n",
       "6                               Food Environment Atlas   \n",
       "7            Statistical Abstract of the United States   \n",
       "8                          USGS US Topo Map Collection   \n",
       "9                               Farm Programs Payments   \n",
       "10                   FluView National Flu Activity Map   \n",
       "11                          NCDC Storm Events Database   \n",
       "12                                Population Estimates   \n",
       "13   National Hydrography Dataset (NHD) - USGS Nati...   \n",
       "14              U.S. Daily Climate Normals (1981-2010)   \n",
       "15                                  Food Price Outlook   \n",
       "16                   Quick Stats Agricultural Database   \n",
       "17   Military Installations, Ranges, and Training A...   \n",
       "18            Soil Survey Geographic Database (SSURGO)   \n",
       "19                                Feed Grains Database   \n",
       "20   1/3rd arc-second Digital Elevation Models (DEM...   \n",
       "21                  National Solar Radiation Data Base   \n",
       "22                             MyPyramid Food Raw Data   \n",
       "23                       CDC WONDER: Cancer Statistics   \n",
       "24                    Total Energy Data and Statistics   \n",
       "25   USGS Water-Quality Data for the Nation - Natio...   \n",
       "26   USGS National Structures Dataset - USGS Nation...   \n",
       "27                               Commodity Flow Survey   \n",
       "28                 Population by Country (1980 - 2010)   \n",
       "29                                    Aquaculture Data   \n",
       "..                                                 ...   \n",
       "586                       Total Ecosystem Carbon Stock   \n",
       "587  Clouds and the Earth's Radiant Energy System (...   \n",
       "588  Near Real-Time SSM/I EASE-Grid Daily Global Ic...   \n",
       "589  International Surface Temperature Initiative (...   \n",
       "590               IPCC Socio-Economic Baseline Dataset   \n",
       "591  Climate Prediction Center Monthly(CPC)Arctic O...   \n",
       "592  Nadir photographs taken during low-altitude tr...   \n",
       "593  NLDAS Noah Land Surface Model L4 Monthly Clima...   \n",
       "594                                  ISCCP_ICESNOW_NAT   \n",
       "595  Chemical and isotopic tracers and other data f...   \n",
       "596             IceBridge CAMBOT L1B Geolocated Images   \n",
       "597  EnviroAtlas - 303(d) Impairments by 12-digit H...   \n",
       "598  AMSR-E/Aqua Daily L3 Global Snow Water Equival...   \n",
       "599  GLDAS Noah Land Surface Model L4 monthly 1.0 x...   \n",
       "600             IceBridge MCoRDS L2 Ice Thickness V001   \n",
       "601  EPA Office of Water (OW): Clean Watersheds Nee...   \n",
       "602  Temperature, salinity and pressure measurement...   \n",
       "603  International Bathymetric Chart of the Arctic ...   \n",
       "604                    National Geothermal Data System   \n",
       "605  NOAA Climate Data Record (CDR) of Northern Hem...   \n",
       "606           Total Biofuels Consumption (2005 - 2009)   \n",
       "607  International Bathymetric Chart of the Arctic ...   \n",
       "608  Global Reservoir and Dam Database, Version 1 (...   \n",
       "609  GLDAS Noah Land Surface Model L4 monthly 0.25 ...   \n",
       "610  NOAA Climate Data Record (CDR) of Gridded Sate...   \n",
       "611  Geochemistry of soils in the US from the PLUTO...   \n",
       "612  ICLUS v1.3 Housing Density for the Conterminou...   \n",
       "613  Ocean Thermal Energy Conversion (OTEC) - Net P...   \n",
       "614              Cost Estimates of Foodborne Illnesses   \n",
       "615  Attributes for NHDplus Catchments (Version 1.1...   \n",
       "\n",
       "                                          organization  \n",
       "0    National Oceanic and Atmospheric Administratio...  \n",
       "1    U.S. Geological Survey, Department of the Inte...  \n",
       "2                            Department of Agriculture  \n",
       "3                               Department of Commerce  \n",
       "4                      Department of Homeland Security  \n",
       "5    U.S. Geological Survey, Department of the Inte...  \n",
       "6                            Department of Agriculture  \n",
       "7                               Department of Commerce  \n",
       "8    U.S. Geological Survey, Department of the Inte...  \n",
       "9                            Department of Agriculture  \n",
       "10           U.S. Department of Health  Human Services  \n",
       "11   National Oceanic and Atmospheric Administratio...  \n",
       "12                              Department of Commerce  \n",
       "13   U.S. Geological Survey, Department of the Inte...  \n",
       "14   National Oceanic and Atmospheric Administratio...  \n",
       "15                           Department of Agriculture  \n",
       "16                           Department of Agriculture  \n",
       "17                               Department of Defense  \n",
       "18                           Department of Agriculture  \n",
       "19                           Department of Agriculture  \n",
       "20   U.S. Geological Survey, Department of the Inte...  \n",
       "21                                Department of Energy  \n",
       "22                           Department of Agriculture  \n",
       "23           U.S. Department of Health  Human Services  \n",
       "24                                Department of Energy  \n",
       "25                          Department of the Interior  \n",
       "26   U.S. Geological Survey, Department of the Inte...  \n",
       "27                              Department of Commerce  \n",
       "28                                Department of Energy  \n",
       "29                           Department of Agriculture  \n",
       "..                                                 ...  \n",
       "586                         Department of the Interior  \n",
       "587      National Aeronautics and Space Administration  \n",
       "588      National Aeronautics and Space Administration  \n",
       "589  National Oceanic and Atmospheric Administratio...  \n",
       "590      National Aeronautics and Space Administration  \n",
       "591  National Oceanic and Atmospheric Administratio...  \n",
       "592                         Department of the Interior  \n",
       "593      National Aeronautics and Space Administration  \n",
       "594      National Aeronautics and Space Administration  \n",
       "595  National Oceanic and Atmospheric Administratio...  \n",
       "596      National Aeronautics and Space Administration  \n",
       "597               U.S. Environmental Protection Agency  \n",
       "598      National Aeronautics and Space Administration  \n",
       "599      National Aeronautics and Space Administration  \n",
       "600      National Aeronautics and Space Administration  \n",
       "601               U.S. Environmental Protection Agency  \n",
       "602  National Oceanic and Atmospheric Administratio...  \n",
       "603  National Oceanic and Atmospheric Administratio...  \n",
       "604                               Department of Energy  \n",
       "605  National Oceanic and Atmospheric Administratio...  \n",
       "606                               Department of Energy  \n",
       "607  National Oceanic and Atmospheric Administratio...  \n",
       "608      National Aeronautics and Space Administration  \n",
       "609      National Aeronautics and Space Administration  \n",
       "610  National Oceanic and Atmospheric Administratio...  \n",
       "611                         Department of the Interior  \n",
       "612               U.S. Environmental Protection Agency  \n",
       "613                               Department of Energy  \n",
       "614                          Department of Agriculture  \n",
       "615                         Department of the Interior  \n",
       "\n",
       "[616 rows x 3 columns]"
      ]
     },
     "execution_count": 44,
     "metadata": {},
     "output_type": "execute_result"
    }
   ],
   "source": [
    "climate_df"
   ]
  },
  {
   "cell_type": "code",
   "execution_count": 45,
   "metadata": {
    "collapsed": true
   },
   "outputs": [],
   "source": [
    "org_count = climate_df.groupby('organization').count()"
   ]
  },
  {
   "cell_type": "code",
   "execution_count": 46,
   "metadata": {},
   "outputs": [
    {
     "data": {
      "text/html": [
       "<div>\n",
       "<style>\n",
       "    .dataframe thead tr:only-child th {\n",
       "        text-align: right;\n",
       "    }\n",
       "\n",
       "    .dataframe thead th {\n",
       "        text-align: left;\n",
       "    }\n",
       "\n",
       "    .dataframe tbody tr th {\n",
       "        vertical-align: top;\n",
       "    }\n",
       "</style>\n",
       "<table border=\"1\" class=\"dataframe\">\n",
       "  <thead>\n",
       "    <tr style=\"text-align: right;\">\n",
       "      <th></th>\n",
       "      <th>description</th>\n",
       "      <th>name</th>\n",
       "    </tr>\n",
       "    <tr>\n",
       "      <th>organization</th>\n",
       "      <th></th>\n",
       "      <th></th>\n",
       "    </tr>\n",
       "  </thead>\n",
       "  <tbody>\n",
       "    <tr>\n",
       "      <th>National Aeronautics and Space Administration</th>\n",
       "      <td>148</td>\n",
       "      <td>148</td>\n",
       "    </tr>\n",
       "    <tr>\n",
       "      <th>National Oceanic and Atmospheric Administration, Department of Commerce</th>\n",
       "      <td>142</td>\n",
       "      <td>142</td>\n",
       "    </tr>\n",
       "    <tr>\n",
       "      <th>Department of the Interior</th>\n",
       "      <td>70</td>\n",
       "      <td>70</td>\n",
       "    </tr>\n",
       "    <tr>\n",
       "      <th>Department of Agriculture</th>\n",
       "      <td>63</td>\n",
       "      <td>63</td>\n",
       "    </tr>\n",
       "    <tr>\n",
       "      <th>U.S. Environmental Protection Agency</th>\n",
       "      <td>58</td>\n",
       "      <td>58</td>\n",
       "    </tr>\n",
       "    <tr>\n",
       "      <th>Department of Energy</th>\n",
       "      <td>41</td>\n",
       "      <td>41</td>\n",
       "    </tr>\n",
       "    <tr>\n",
       "      <th>U.S. Department of Health  Human Services</th>\n",
       "      <td>32</td>\n",
       "      <td>32</td>\n",
       "    </tr>\n",
       "    <tr>\n",
       "      <th>Department of Transportation</th>\n",
       "      <td>30</td>\n",
       "      <td>30</td>\n",
       "    </tr>\n",
       "    <tr>\n",
       "      <th>U.S. Geological Survey, Department of the Interior</th>\n",
       "      <td>10</td>\n",
       "      <td>10</td>\n",
       "    </tr>\n",
       "    <tr>\n",
       "      <th>Department of Commerce</th>\n",
       "      <td>6</td>\n",
       "      <td>6</td>\n",
       "    </tr>\n",
       "    <tr>\n",
       "      <th>US Census Bureau, Department of Commerce</th>\n",
       "      <td>5</td>\n",
       "      <td>5</td>\n",
       "    </tr>\n",
       "    <tr>\n",
       "      <th>Department of Defense</th>\n",
       "      <td>3</td>\n",
       "      <td>3</td>\n",
       "    </tr>\n",
       "    <tr>\n",
       "      <th>Federal Geographic Data Committee</th>\n",
       "      <td>2</td>\n",
       "      <td>2</td>\n",
       "    </tr>\n",
       "    <tr>\n",
       "      <th>Department of Housing and Urban Development</th>\n",
       "      <td>2</td>\n",
       "      <td>2</td>\n",
       "    </tr>\n",
       "    <tr>\n",
       "      <th>Department of Homeland Security</th>\n",
       "      <td>2</td>\n",
       "      <td>2</td>\n",
       "    </tr>\n",
       "    <tr>\n",
       "      <th>Kansas Data Access and Support Center</th>\n",
       "      <td>1</td>\n",
       "      <td>1</td>\n",
       "    </tr>\n",
       "    <tr>\n",
       "      <th>Farm Service Agency, Department of Agriculture</th>\n",
       "      <td>1</td>\n",
       "      <td>1</td>\n",
       "    </tr>\n",
       "  </tbody>\n",
       "</table>\n",
       "</div>"
      ],
      "text/plain": [
       "                                                    description  name\n",
       "organization                                                         \n",
       "National Aeronautics and Space Administration               148   148\n",
       "National Oceanic and Atmospheric Administration...          142   142\n",
       "Department of the Interior                                   70    70\n",
       "Department of Agriculture                                    63    63\n",
       "U.S. Environmental Protection Agency                         58    58\n",
       "Department of Energy                                         41    41\n",
       "U.S. Department of Health  Human Services                    32    32\n",
       "Department of Transportation                                 30    30\n",
       "U.S. Geological Survey, Department of the Interior           10    10\n",
       "Department of Commerce                                        6     6\n",
       "US Census Bureau, Department of Commerce                      5     5\n",
       "Department of Defense                                         3     3\n",
       "Federal Geographic Data Committee                             2     2\n",
       "Department of Housing and Urban Development                   2     2\n",
       "Department of Homeland Security                               2     2\n",
       "Kansas Data Access and Support Center                         1     1\n",
       "Farm Service Agency, Department of Agriculture                1     1"
      ]
     },
     "execution_count": 46,
     "metadata": {},
     "output_type": "execute_result"
    }
   ],
   "source": [
    "org_count.sort_values(by='name',ascending=False)"
   ]
  },
  {
   "cell_type": "code",
   "execution_count": 47,
   "metadata": {
    "collapsed": true
   },
   "outputs": [],
   "source": [
    "org_count_abbr = org_count[org_count['name'] > 20]"
   ]
  },
  {
   "cell_type": "code",
   "execution_count": 48,
   "metadata": {
    "collapsed": true
   },
   "outputs": [],
   "source": [
    "rem_count = org_count[org_count['name'] <= 20].sum()[0]"
   ]
  },
  {
   "cell_type": "code",
   "execution_count": 49,
   "metadata": {},
   "outputs": [
    {
     "data": {
      "text/plain": [
       "numpy.int64"
      ]
     },
     "execution_count": 49,
     "metadata": {},
     "output_type": "execute_result"
    }
   ],
   "source": [
    "type(rem_count)"
   ]
  },
  {
   "cell_type": "code",
   "execution_count": 50,
   "metadata": {
    "collapsed": true
   },
   "outputs": [],
   "source": [
    "org_count_abbr = org_count_abbr.append(pd.DataFrame({'name':[rem_count]}, \n",
    "                                                    index=['Other']))\n",
    "org_count_abbr = org_count_abbr[['name']].rename(columns={'name':'count'})"
   ]
  },
  {
   "cell_type": "code",
   "execution_count": 51,
   "metadata": {},
   "outputs": [
    {
     "data": {
      "text/html": [
       "<div>\n",
       "<style>\n",
       "    .dataframe thead tr:only-child th {\n",
       "        text-align: right;\n",
       "    }\n",
       "\n",
       "    .dataframe thead th {\n",
       "        text-align: left;\n",
       "    }\n",
       "\n",
       "    .dataframe tbody tr th {\n",
       "        vertical-align: top;\n",
       "    }\n",
       "</style>\n",
       "<table border=\"1\" class=\"dataframe\">\n",
       "  <thead>\n",
       "    <tr style=\"text-align: right;\">\n",
       "      <th></th>\n",
       "      <th>count</th>\n",
       "    </tr>\n",
       "  </thead>\n",
       "  <tbody>\n",
       "    <tr>\n",
       "      <th>Department of Agriculture</th>\n",
       "      <td>63</td>\n",
       "    </tr>\n",
       "    <tr>\n",
       "      <th>Department of Energy</th>\n",
       "      <td>41</td>\n",
       "    </tr>\n",
       "    <tr>\n",
       "      <th>Department of Transportation</th>\n",
       "      <td>30</td>\n",
       "    </tr>\n",
       "    <tr>\n",
       "      <th>Department of the Interior</th>\n",
       "      <td>70</td>\n",
       "    </tr>\n",
       "    <tr>\n",
       "      <th>National Aeronautics and Space Administration</th>\n",
       "      <td>148</td>\n",
       "    </tr>\n",
       "    <tr>\n",
       "      <th>National Oceanic and Atmospheric Administration, Department of Commerce</th>\n",
       "      <td>142</td>\n",
       "    </tr>\n",
       "    <tr>\n",
       "      <th>U.S. Department of Health  Human Services</th>\n",
       "      <td>32</td>\n",
       "    </tr>\n",
       "    <tr>\n",
       "      <th>U.S. Environmental Protection Agency</th>\n",
       "      <td>58</td>\n",
       "    </tr>\n",
       "    <tr>\n",
       "      <th>Other</th>\n",
       "      <td>32</td>\n",
       "    </tr>\n",
       "  </tbody>\n",
       "</table>\n",
       "</div>"
      ],
      "text/plain": [
       "                                                    count\n",
       "Department of Agriculture                              63\n",
       "Department of Energy                                   41\n",
       "Department of Transportation                           30\n",
       "Department of the Interior                             70\n",
       "National Aeronautics and Space Administration         148\n",
       "National Oceanic and Atmospheric Administration...    142\n",
       "U.S. Department of Health  Human Services              32\n",
       "U.S. Environmental Protection Agency                   58\n",
       "Other                                                  32"
      ]
     },
     "execution_count": 51,
     "metadata": {},
     "output_type": "execute_result"
    }
   ],
   "source": [
    "org_count_abbr"
   ]
  },
  {
   "cell_type": "code",
   "execution_count": 52,
   "metadata": {},
   "outputs": [
    {
     "data": {
      "image/png": "[encoded data removed]",
      "text/plain": [
       "<matplotlib.figure.Figure at 0x752cdfd03898>"
      ]
     },
     "metadata": {},
     "output_type": "display_data"
    }
   ],
   "source": [
    "_ = org_count_abbr.sort_values(by='count',ascending=False).plot(y='count',kind='bar')"
   ]
  },
  {
   "cell_type": "code",
   "execution_count": 53,
   "metadata": {
    "collapsed": true
   },
   "outputs": [],
   "source": [
    "org_sorted = org_count_abbr.sort_values(by='count',ascending=False).index.values"
   ]
  },
  {
   "cell_type": "markdown",
   "metadata": {},
   "source": [
    "# Tracking the status of datasets\n",
    "Let's make some defs to query the dataset urls.  The first is for converting relative paths to urls, and the second returns the status of the request to that url."
   ]
  },
  {
   "cell_type": "code",
   "execution_count": 54,
   "metadata": {
    "collapsed": true
   },
   "outputs": [],
   "source": [
    "def reltoabs(url,urlbase = \"https://catalog.data.gov\"):\n",
    "    \"\"\"\n",
    "    Input: url string\n",
    "    Output: url string\n",
    "    \"\"\"\n",
    "    if url[0]=='/':\n",
    "        return urlbase+url\n",
    "    if (url[:6] == \"http:/\") and (not url[6] == \"/\"):\n",
    "        return \"http://\" + url[6:]\n",
    "    return url"
   ]
  },
  {
   "cell_type": "code",
   "execution_count": 62,
   "metadata": {
    "collapsed": true
   },
   "outputs": [],
   "source": [
    "def testurl(url):\n",
    "    \"\"\"\n",
    "    Input: url\n",
    "    Output: request status code\n",
    "    \"\"\"\n",
    "    try:\n",
    "        if url[:4] == 'http':\n",
    "            r = requests.head(url)\n",
    "            return r.status_code\n",
    "        if url[:3] == 'ftp':\n",
    "            requests_ftp.monkeypatch_session()\n",
    "            s = requests.Session()\n",
    "            resp = s.list(url)\n",
    "            return resp.status_code\n",
    "    except requests.ConnectionError:\n",
    "        return None"
   ]
  },
  {
   "cell_type": "code",
   "execution_count": 56,
   "metadata": {},
   "outputs": [
    {
     "data": {
      "text/plain": [
       "['https://data.nodc.noaa.gov/cgi-bin/iso?id=gov.noaa.ncdc:C00313',\n",
       " 'https://www.ncdc.noaa.gov/cdo-web/search?datasetid=PRECIP_HLY#',\n",
       " 'https://gis.ncdc.noaa.gov/maps/ncei/cdo/hourly?layers=001',\n",
       " 'ftp://ftp.ncdc.noaa.gov/pub/data/hourly_precip-3240/',\n",
       " 'https://gis.ncdc.noaa.gov/arcgis/rest/services/cdo/precip_hly/MapServer',\n",
       " '/dataset/u-s-hourly-precipitation-data/resource/126aedd4-9d30-4a8f-86c4-144575762fb2']"
      ]
     },
     "execution_count": 56,
     "metadata": {},
     "output_type": "execute_result"
    }
   ],
   "source": [
    "[a for a in climate_colls[0][3]['label']]"
   ]
  },
  {
   "cell_type": "code",
   "execution_count": null,
   "metadata": {},
   "outputs": [
    {
     "name": "stdout",
     "output_type": "stream",
     "text": [
      "https://water.usgs.gov/GIS/dsdl/nhd_popdens_mrb6.zip\n",
      "https://data.nodc.noaa.gov/cgi-bin/iso?id=gov.noaa.ncdc:C00313\n",
      "https://www.ncdc.noaa.gov/cdo-web/search?datasetid=PRECIP_HLY#\n",
      "https://gis.ncdc.noaa.gov/maps/ncei/cdo/hourly?layers=001\n",
      "ftp://ftp.ncdc.noaa.gov/pub/data/hourly_precip-3240/\n",
      "https://gis.ncdc.noaa.gov/arcgis/rest/services/cdo/precip_hly/MapServer\n",
      "https://catalog.data.gov/dataset/u-s-hourly-precipitation-data/resource/126aedd4-9d30-4a8f-86c4-144575762fb2\n",
      "https://thor-f5.er.usgs.gov/ngtoc/metadata/waf/elevation/1_meter/\n",
      "https://prd-tnm.s3.amazonaws.com/index.html?prefix=StagedProducts/Elevation/1m/IMG/\n",
      "https://services.nationalmap.gov/arcgis/rest/services/3DEPElevationIndex/MapServer\n",
      "https://catalog.data.gov/dataset/usgs-national-elevation-dataset-ned-1-meter-downloadable-data-collection-from-the-national-map-/resource/ca4babd7-eb82-4112-9fd7-371f2e8b4955\n",
      "https://nationalmap.gov/3DEP/\n",
      "https://viewer.nationalmap.gov/\n",
      "http://www.ers.usda.gov/data-products/fruit-and-vegetable-prices.aspx\n",
      "http://factfinder2.census.gov\n",
      "http://www.floodmaps.fema.gov/NFHL/status.shtml\n",
      "http://fema.maps.arcgis.com/home/item.html?id=cbe088e7c8704464aa0fc34eb99e7f30\n",
      "http://www.fema.gov/media-library/assets/documents/13424\n",
      "http://msc.fema.gov\n",
      "https://content.femadata.com/FIMA/Risk_MAP/NFHL/\n",
      "http://www.fema.gov/media-library-data/1449862521789-e97ed4c7b7405faa7c3691603137ec40/FIRM_Database_Technical_Reference_Nov_2015.pdf\n",
      "https://thor-f5.er.usgs.gov/ngtoc/metadata/waf/transportation/ntd/\n",
      "https://prd-tnm.s3.amazonaws.com/index.html?prefix=StagedProducts/Tran/GDB/\n",
      "https://prd-tnm.s3.amazonaws.com/index.html?prefix=StagedProducts/Tran/Shape/\n",
      "https://services.nationalmap.gov/arcgis/rest/services/transportation/MapServer\n",
      "https://catalog.data.gov/dataset/usgs-national-transportation-dataset-ntd-downloadable-data-collectionde7d2/resource/21b82b1a-82e5-4627-ac97-cb07abcde8c2\n",
      "http://services.nationalmap.gov/arcgis/services/WFS/transportation/MapServer/WFSServer?request=GetCapabilities&service=WFS\n",
      "http://www.ers.usda.gov/data-products/food-environment-atlas/go-to-the-atlas.aspx\n",
      "https://gis.ers.usda.gov/arcgis/rest/services/\n",
      "http://www.ers.usda.gov/data-products/food-environment-atlas/data-access-and-documentation-downloads/\n",
      "http://www.census.gov/library/publications/time-series/statistical_abstracts.html\n",
      "https://thor-f5.er.usgs.gov/ngtoc/metadata/ustopo/\n",
      "https://services.nationalmap.gov/ArcGIS/rest/services/US_Topo/MapServer\n",
      "https://www.sciencebase.gov/catalog/item/4f554236e4b018de15819c85/csw?service=CSW&version=2.0.2&request=GetRecords\n",
      "https://www.sciencebase.gov/catalog/oai-pmh?verb=ListRecords&set=4f554236e4b018de15819c85&metadataPrefix=fgdc-orig\n",
      "https://catalog.data.gov/dataset/usgs-us-topo-map-collection/resource/072a15ad-1496-41f8-aa2b-4a1b4ad5b0fe\n",
      "https://catalog.data.gov/dataset/usgs-us-topo-map-collection/resource/5e645224-6869-4101-ba82-c6e16c6ffb53\n",
      "http://www.fsa.usda.gov/FSA/webapp?area=newsroom&subject=landing&topic=foi-er-fri-pfi\n",
      "http://www.cdc.gov/Widgets/#fluview\n",
      "https://data.nodc.noaa.gov/cgi-bin/iso?id=gov.noaa.ncdc:C00510\n",
      "https://www.ncdc.noaa.gov/stormevents/ftp.jsp\n",
      "https://www.ncdc.noaa.gov/stormevents/faq.jsp\n",
      "https://www.ncdc.noaa.gov/stormevents/ftp.jsp\n",
      "https://www.ncdc.noaa.gov/stormevents/\n",
      "https://www.ncei.noaa.gov\n",
      "http://www.census.gov/popest/data/index.html\n",
      "https://thor-f5.er.usgs.gov/ngtoc/metadata/waf/hydrography/nhd/\n",
      "ftp://rockyftp.cr.usgs.gov/vdelivery/Datasets/Staged/Hydrography/NHD/\n",
      "https://prd-tnm.s3.amazonaws.com/index.html?prefix=StagedProducts/Hydrography/NHD/\n",
      "https://basemap.nationalmap.gov/arcgis/rest/services/USGSHydroCached/MapServer\n",
      "https://hydro.nationalmap.gov/arcgis/rest/services/nhd/MapServer\n",
      "https://catalog.data.gov/dataset/usgs-national-hydrography-dataset-nhd-downloadable-data-collection-national-geospatial-data-as/resource/6fe2f6ea-02e5-4a80-9011-104c98e7d960\n",
      "https://data.nodc.noaa.gov/cgi-bin/iso?id=gov.noaa.ncdc:C00823\n",
      "ftp://ftp.ncdc.noaa.gov/pub/data/normals/1981-2010/\n",
      "https://www.ncdc.noaa.gov/cdo-web/search?datasetid=NORMAL_DLY\n",
      "https://gis.ncdc.noaa.gov/maps/ncei/normals&layers=01\n",
      "https://gis.ncdc.noaa.gov/arcgis/rest/services/cdo/normals/MapServer\n",
      "https://catalog.data.gov/dataset/u-s-daily-climate-normals-1981-2010/resource/c40498cb-b9f9-4c52-93bb-4abb3df4e0ff\n",
      "http://www.ers.usda.gov/data-products/food-price-outlook.aspx\n",
      "https://quickstats.nass.usda.gov\n",
      "https://quickstats.nass.usda.gov/api\n",
      "http://www.acq.osd.mil/eie/Downloads/DISDI/installations_ranges.zip\n",
      "http://datagateway.nrcs.usda.gov\n",
      "http://datagateway.nrcs.usda.gov\n",
      "http://www.ers.usda.gov/data-products/feed-grains-database/feed-grains-custom-query.aspx\n",
      "https://www.ers.usda.gov/webdocs/DataFiles/Feed_Grains_Yearbook_Tables__18027/FeedGrains.zip?v=42780\n",
      "https://www.ers.usda.gov/webdocs/DataFiles/Feed_Grains_Yearbook_Tables__18027/Feed%20Grains%20Yearbook%20Tables-Recent.xls?v=42780\n",
      "https://www.ers.usda.gov/webdocs/DataFiles/Feed_Grains_Yearbook_Tables__18027/Feed%20Grains%20Yearbook%20Tables-All%20Years.xls?v=42780\n",
      "https://thor-f5.er.usgs.gov/ngtoc/metadata/waf/elevation/1-3_arc-second/\n",
      "https://prd-tnm.s3.amazonaws.com/index.html?prefix=StagedProducts/Elevation/13/ArcGrid/\n",
      "https://prd-tnm.s3.amazonaws.com/index.html?prefix=StagedProducts/Elevation/13/GridFloat/\n",
      "https://prd-tnm.s3.amazonaws.com/index.html?prefix=StagedProducts/Elevation/13/IMG/\n",
      "https://services.nationalmap.gov/arcgis/rest/services/3DEPElevationIndex/MapServer\n",
      "https://catalog.data.gov/dataset/national-elevation-dataset-ned-1-3-arc-second-downloadable-data-collection-national-geospatial/resource/2997b50b-b6df-4c27-ace4-db8c22086447\n",
      "https://nsrdb.nrel.gov/\n",
      "https://nsrdb.nrel.gov/api-instructions\n",
      "https://maps.nrel.gov/nsrdb-viewer/\n",
      "https://inventory.data.gov/dataset/794cd3d7-4d28-4408-8f7d-84b820dbf7f2/resource/6b78ec0c-4980-4ad8-9cbd-2d6eb9eda8e7/download/myfoodapediadata.zip\n",
      "http://wonder.cdc.gov/cancer.html\n",
      "https://www.eia.gov/totalenergy/data/monthly/index.cfm\n",
      "https://www.eia.gov/totalenergy/data/annual/index.cfm\n",
      "https://waterdata.usgs.gov/nwis/qw\n",
      "https://waterdata.usgs.gov/nwis/current/?type=quality\n",
      "https://waterdata.usgs.gov/nwis/uv/?referred_module=qw\n",
      "https://waterdata.usgs.gov/nwis/dv/?referred_module=qw\n",
      "https://waterdata.usgs.gov/nwis/dvstat/?referred_module=qw\n",
      "https://waterdata.usgs.gov/nwis/monthly/?referred_module=qw\n",
      "https://thor-f5.er.usgs.gov/ngtoc/metadata/waf/structures/nsd/\n",
      "https://prd-tnm.s3.amazonaws.com/index.html?prefix=StagedProducts/Struct/GDB/\n",
      "https://prd-tnm.s3.amazonaws.com/index.html?prefix=StagedProducts/Struct/Shape/\n",
      "https://services.nationalmap.gov/arcgis/rest/services/structures/MapServer\n",
      "https://catalog.data.gov/dataset/usgs-national-structures-dataset-nsd-downloadable-data-collection-national-geospatial-data-ass/resource/cc5b94ad-9e09-43f2-8f70-80d198d7fe93\n",
      "https://services.nationalmap.gov/arcgis/services/WFS/structures/MapServer/WFSServer?request=GetCapabilities&service=WFS\n",
      "http://www.census.gov/econ/cfs/\n",
      "https://openei.org/doe-opendata/dataset/a7fea769-691d-4536-8ed3-471e993a2445/resource/86c50aa8-e40f-4859-b52e-29bb10166456/download/populationbycountry19802010millions.csv\n",
      "https://www.ers.usda.gov/webdocs/DataFiles/Aquaculture_Data__17968/28242_Aquaculture.zip?v=42774\n",
      "http://www.ers.usda.gov/data-products/aquaculture-data.aspx\n",
      "https://chronicdata.cdc.gov/api/views/ntny-77fx/rows.csv?accessType=DOWNLOAD\n",
      "https://chronicdata.cdc.gov/api/views/ntny-77fx/rows.rdf?accessType=DOWNLOAD\n",
      "https://chronicdata.cdc.gov/api/views/ntny-77fx/rows.json?accessType=DOWNLOAD\n",
      "https://chronicdata.cdc.gov/api/views/ntny-77fx/rows.xml?accessType=DOWNLOAD\n",
      "http://www.ers.usda.gov/data-products/us-food-imports.aspx\n",
      "http://www.hud.gov/offices/cpd/systems/census/sf1/Tables.zip\n",
      "https://openei.org/doe-opendata/dataset/5346c5c2-be26-4be7-9663-b5a98cbb7527/resource/01fe78a8-77b6-4c59-bc36-cae177ee86c3/download/usretechpotential.pdf\n",
      "https://openei.org/doe-opendata/dataset/5346c5c2-be26-4be7-9663-b5a98cbb7527/resource/ff0cfb6d-0ea7-460a-aa16-a997ad274e1c/download/figure1usretechpotentialassumptions.jpg\n",
      "https://openei.org/doe-opendata/dataset/5346c5c2-be26-4be7-9663-b5a98cbb7527/resource/926a3529-c67e-4723-8876-f6c22f663593/download/usretechnicalpotential.xlsx\n",
      "https://openei.org/doe-opendata/dataset/5346c5c2-be26-4be7-9663-b5a98cbb7527/resource/096347a1-8be8-4df8-87e3-065531f7215f/download/usretechnicalpotential.csv\n"
     ]
    },
    {
     "name": "stdout",
     "output_type": "stream",
     "text": [
      "https://data.nodc.noaa.gov/cgi-bin/iso?id=gov.noaa.ncdc:C00822\n",
      "ftp://ftp.ncdc.noaa.gov/pub/data/normals/1981-2010/\n",
      "https://www.ncdc.noaa.gov/cdo-web/search?datasetid=NORMAL_MLY\n",
      "https://gis.ncdc.noaa.gov/maps/ncei/normals&layers=001\n",
      "https://gis.ncdc.noaa.gov/arcgis/rest/services/cdo/normals/MapServer\n",
      "https://catalog.data.gov/dataset/u-s-monthly-climate-normals-1981-2010/resource/56287422-1767-4ac2-baa9-5e3b0e9e447f\n",
      "http://wonder.cdc.gov/natality.html\n",
      "http://dx.doi.org/10.5066/F7G73BSZ\n",
      "http://gapanalysis.usgs.gov/PADUS\n",
      "http://A Variety of web mapping services are available to accompany the data and to help visualize the data in many ways. These Services can be viewed through the PAD-US Online Map Viewer (http://gapanalysis.usgs.gov/padus/viewer/) or can be accessed and consumed by other web mapping applications using the links provided here:(http://gapanalysis.usgs.gov/data/web-services/)\n",
      "http://A Variety of web mapping services are available to accompany the data and to help visualize the data in many ways. These Services can be viewed through the PAD-US Online Map Viewer (http://gapanalysis.usgs.gov/padus/viewer/) or can be accessed and consumed by other web mapping applications using the links provided here:(http://gapanalysis.usgs.gov/data/web-services/)\n",
      "http://gapanalysis.usgs.gov/PADUS\n",
      "http://gapanalysis.usgs.gov/padus/data/\n",
      "http://dx.doi.org/10.5066/F7G73BSZ\n",
      "https://data.nodc.noaa.gov/cgi-bin/iso?id=gov.noaa.ncdc:C00887\n",
      "https://www.ncdc.noaa.gov/customer-support\n",
      "https://www.ncdc.noaa.gov/\n",
      "https://doi.org/10.7289/V53T9F5B\n",
      "https://www.ncdc.noaa.gov/cdr/operationalcdrs.html\n",
      "https://data.nodc.noaa.gov/cgi-bin/iso?id=gov.noaa.ncdc:C00972\n",
      "https://nassgeodata.gmu.edu/CropScape/\n",
      "https://nassgeodata.gmu.edu/CropScapeService/wms_cdlall.cgi\n",
      "http://crop.csiss.gmu.edu/arcgis/services/CropScape/MapServer/WMSServer\n",
      "https://openei.org/doe-opendata/dataset/19316a50-e55d-45e2-b692-efcebfe16c95/resource/3e72f32a-7de1-4e5d-a25a-76928769625f/download/solarresourceenergy.xlsx\n",
      "https://openei.org/doe-opendata/dataset/19316a50-e55d-45e2-b692-efcebfe16c95/resource/544e4dcc-95bc-480a-9669-64e444356c46/download/solarresourceenergytiltlatsubtotaled.xlsx\n",
      "https://openei.org/doe-opendata/dataset/19316a50-e55d-45e2-b692-efcebfe16c95/resource/e58a209c-57c0-4423-ba90-2ff867baa015/download/totalsolarresourcetiltlatflattenedranked.xls\n",
      "https://data.nodc.noaa.gov/cgi-bin/iso?id=gov.noaa.ncdc:C00516\n",
      "ftp://ftp.ncdc.noaa.gov/pub/data/gsod/\n",
      "http://www7.ncdc.noaa.gov/CDO/cdoselect.cmd?datasetabbv=GSOD&resolution=40\n",
      "https://gis.ncdc.noaa.gov/maps/ncei/cdo/daily\n",
      "https://gis.ncdc.noaa.gov/arcgis/rest/services/cdo/gsod/MapServer/\n",
      "https://catalog.data.gov/dataset/global-surface-summary-of-the-day-gsod/resource/d34098a7-9dcd-488f-a62a-08655d2b1827\n",
      "http://www.ers.usda.gov/data-products/food-access-research-atlas/go-to-the-atlas.aspx\n",
      "http://gis.ers.usda.gov/arcgis/rest/services/\n",
      "https://www.ers.usda.gov/data-products/food-access-research-atlas/download-the-data/\n",
      "https://thor-f5.er.usgs.gov/ngtoc/metadata/waf/land_cover/\n",
      "https://viewer.nationalmap.gov\n",
      "https://doi.org/10.7289/V5D21VHZ\n",
      "https://www.ncdc.noaa.gov/ghcn-daily-description\n",
      "https://www1.ncdc.noaa.gov/pub/data/ghcn/daily/readme.txt\n",
      "https://www1.ncdc.noaa.gov/pub/data/ghcn/daily/ghcnd-stations.txt\n",
      "https://www1.ncdc.noaa.gov/pub/data/cdo/documentation/GHCND_documentation.pdf\n",
      "https://www1.ncdc.noaa.gov/pub/data/ghcn/daily/\n",
      "http://gis1.usgs.gov/arcgis/rest/services/USGS_Patuxent_Wildlife_Research_Center\n",
      "http://http://gis1.usgs.gov/arcgis/rest/services/USGS_Patuxent_WRC/Atlantic_Offshore_Seabird_Dataset_Catalog_WMS/MapServer\n",
      "https://thor-f5.er.usgs.gov/ngtoc/metadata/waf/hydrography/wbd/\n",
      "ftp://rockyftp.cr.usgs.gov/vdelivery/Datasets/Staged/Hydrography/WBD/\n",
      "https://prd-tnm.s3.amazonaws.com/index.html?prefix=StagedProducts/Hydrography/WBD/\n",
      "https://hydro.nationalmap.gov/arcgis/rest/services/wbd/MapServer\n",
      "https://catalog.data.gov/dataset/usgs-national-watershed-boundary-dataset-wbd-downloadable-data-collection-national-geospatial-/resource/cad465e8-0ad3-4232-9dd2-b04714a5da8c\n",
      "https://nhd.usgs.gov/wbd.html\n",
      "http://epa.gov/castnet/javaweb/index.html\n",
      "http://www.navigationdatacenter.us/db/wcsc/xls/total_waterborne_commerce.xls\n",
      "http://www.navigationdatacenter.us/db/wcsc/data/total_waterborne_commerce.csv\n",
      "https://data.nodc.noaa.gov/cgi-bin/iso?id=gov.noaa.ncdc:C00634\n",
      "https://nomads.ncdc.noaa.gov/data/gfs4/\n",
      "ftp://nomads.ncdc.noaa.gov/GFS/Grid4/\n",
      "https://nomads.ncdc.noaa.gov/thredds/gfs4.html\n",
      "http://www.emc.ncep.noaa.gov/index.php?branch=GFS\n",
      "https://www.ncdc.noaa.gov/data-access/model-data/model-datasets/global-forcast-system-gfs\n",
      "http://wonder.cdc.gov/lbd.html\n",
      "https://www.eia.gov/consumption/residential/data/2009/csv/recs2009_public.csv\n",
      "http://www.ngdc.noaa.gov/mgg/coastal/coastal.html\n",
      "http://www.ngdc.noaa.gov/dem/squareCellGrid/map\n",
      "http://www.ngdc.noaa.gov/dem/squareCellGrid/search\n",
      "http://www.ngdc.noaa.gov/mgg/coastal/coastal.html\n",
      "http://gcmd.nasa.gov/MailComments/MailComments.jsf?rcpt=gcmduso\n",
      "http://gcmd.nasa.gov/learn/keyword_list.html\n",
      "https://bison.usgs.gov/#api\n",
      "https://bison.usgs.gov/\n",
      "http://www.ers.usda.gov/data-products/adoption-of-genetically-engineered-crops-in-the-us.aspx\n",
      "http://weather.noaa.gov\n",
      "http://wonder.cdc.gov/mortSQL.html\n",
      "https://thor-f5.er.usgs.gov/ngtoc/metadata/waf/elevation/1-9_arc-second/\n",
      "https://prd-tnm.s3.amazonaws.com/index.html?prefix=StagedProducts/Elevation/19/IMG/\n",
      "https://services.nationalmap.gov/arcgis/rest/services/3DEPElevationIndex/MapServer\n",
      "https://catalog.data.gov/dataset/national-elevation-dataset-ned-1-9-arc-second-downloadable-data-collection-national-geospatial/resource/4ae96550-4790-4ca0-afe0-a529403e3337\n",
      "https://nationalmap.gov/3DEP/\n",
      "https://viewer.nationalmap.gov/\n",
      "http://gis.wim.usgs.gov/arcgis/rest/services/AIR_NDGA/AIR_NDGA/MapServer\n",
      "http://gis.wim.usgs.gov/arcgis/rest/services/AIR_NDGA/AIR_NDGA/MapServer\n",
      "https://financere.nrel.gov/finance/files/nrel_crest_solar_version%201.3_mac.xlsx\n",
      "https://financere.nrel.gov/finance/files/nrel_crest_wind_version%201.3_mac.xlsx\n",
      "https://financere.nrel.gov/finance/files/nrel_crest_geothermal_version1.3_mac.xlsx\n",
      "https://financere.nrel.gov/finance/files/nrel_crest_ad_version%201.3_mac.xlsx\n",
      "https://financere.nrel.gov/finance/files/nrel_crest_fuel-cell_version1-3_mac.xlsx\n",
      "https://financere.nrel.gov/finance/files/nrel_crest_solar_version1-3_0.xlsx\n",
      "http://quickstats.nass.usda.gov/api\n",
      "https://ecos.fws.gov/ServCat/DownloadFile/129675\n",
      "https://ecos.fws.gov/ServCat/Reference/Profile/64394\n",
      "https://www.fws.gov/wetlands/\n",
      "https://www.fws.gov/wetlands/Data/Mapper.html\n",
      "https://catalog.data.gov/dataset/national-wetlands-inventory-wetlands/resource/0adede28-ec81-441d-a181-9ec3eeb06c36\n",
      "https://www.fws.gov/wetlands/data/Data-Download.html\n",
      "https://data.nodc.noaa.gov/cgi-bin/iso?id=gov.noaa.ncdc:C00821\n",
      "ftp://ftp.ncdc.noaa.gov/pub/data/normals/1981-2010/\n",
      "https://www.ncdc.noaa.gov/cdo-web/search?datasetid=NORMAL_ANN\n",
      "https://gis.ncdc.noaa.gov/maps/ncei/normals&layers=0001\n",
      "https://gis.ncdc.noaa.gov/arcgis/rest/services/cdo/normals/MapServer\n",
      "https://catalog.data.gov/dataset/u-s-annual-seasonal-climate-normals-1981-2010/resource/3bea4b6c-36a2-478a-8e8f-8dc869121b1a\n",
      "http://www.ops.fhwa.dot.gov/freight/freight_analysis/faf/faf3/faf3_5.zip\n",
      "https://www.supertracker.usda.gov/foodapedia.aspx\n"
     ]
    }
   ],
   "source": [
    "urlstats=[]\n",
    "errors = []\n",
    "for coll in climate_colls:\n",
    "    urlstattemp = []\n",
    "    for urlrel in coll[3]['label']:\n",
    "        try:\n",
    "            print(url)\n",
    "            url = reltoabs(urlrel)\n",
    "            urlstatus = testurl(url)\n",
    "            urlstattemp += [urlstatus]\n",
    "        except BaseException as e:\n",
    "            print(urlrel)\n",
    "            errors.append((e,urlrel))\n",
    "    urlstats.append(urlstattemp)"
   ]
  },
  {
   "cell_type": "code",
   "execution_count": 58,
   "metadata": {},
   "outputs": [
    {
     "data": {
      "text/plain": [
       "112"
      ]
     },
     "execution_count": 58,
     "metadata": {},
     "output_type": "execute_result"
    }
   ],
   "source": [
    "len(errors)"
   ]
  },
  {
   "cell_type": "code",
   "execution_count": 61,
   "metadata": {},
   "outputs": [
    {
     "data": {
      "text/plain": [
       "(AttributeError(\"'_ConfiguredCachedSession' object has no attribute 'list'\"),\n",
       " 'ftp://rockyftp.cr.usgs.gov/vdelivery/Datasets/Staged/Hydrography/NHD/')"
      ]
     },
     "execution_count": 61,
     "metadata": {},
     "output_type": "execute_result"
    }
   ],
   "source": [
    "errors[1]"
   ]
  },
  {
   "cell_type": "code",
   "execution_count": 59,
   "metadata": {},
   "outputs": [
    {
     "data": {
      "text/plain": [
       "616"
      ]
     },
     "execution_count": 59,
     "metadata": {},
     "output_type": "execute_result"
    }
   ],
   "source": [
    "len(urlstats)"
   ]
  },
  {
   "cell_type": "markdown",
   "metadata": {},
   "source": [
    "We can see that urlstats contains the request status of the urls that are listed on data.gov.  So let's make a def that converts each list of status returns into a dict of counts of each type.  This way we can pass it to pd.DataFrame"
   ]
  },
  {
   "cell_type": "code",
   "execution_count": 318,
   "metadata": {},
   "outputs": [
    {
     "data": {
      "text/plain": [
       "[[200, 200, 404, 503, 200, 302],\n",
       " [301, 301, 200, None, 301, 200],\n",
       " [200],\n",
       " [200, 200, 301, 302, 301, 301],\n",
       " [200, 405, 200],\n",
       " [200],\n",
       " [200],\n",
       " [301, 301, 301, 301, 301, 301],\n",
       " [200],\n",
       " [200, 200, 200, 404, 200, 301]]"
      ]
     },
     "execution_count": 318,
     "metadata": {},
     "output_type": "execute_result"
    }
   ],
   "source": [
    "urlstats[0:10]"
   ]
  },
  {
   "cell_type": "code",
   "execution_count": 319,
   "metadata": {
    "collapsed": true
   },
   "outputs": [],
   "source": [
    "def convstatnames(stats):\n",
    "    \"\"\"Return a dictionary of counts\"\"\"\n",
    "    sdict = dict(Counter(stats))\n",
    "    return {'status_'+str(a):b for a,b in sdict.items()}\n",
    "\n",
    "stat_df = pd.DataFrame([convstatnames(stats) for stats in urlstats])\n",
    "stat_df = stat_df.fillna(0)\n",
    "stat_df.head()\n",
    "\n",
    "failedstatus = ['status_400','status_404','status_405','status_503','status_None']\n",
    "stat_df['failed ratio'] = stat_df[failedstatus].sum(axis=1)/stat_df.sum(axis=1)"
   ]
  },
  {
   "cell_type": "markdown",
   "metadata": {},
   "source": [
    "We've also created a variable which is the proportion of urls that returned a status in the 400's or 500's or None.  Let's now join this against the climate_df to get one DataFrame of all unique combinations of failed ratio and organization.  Retain only the most common organizations."
   ]
  },
  {
   "cell_type": "code",
   "execution_count": null,
   "metadata": {
    "collapsed": true
   },
   "outputs": [],
   "source": [
    "climate_df = climate_df.join(stat_df)\n",
    "climate_failed = climate_df.groupby(['organization','failed ratio'])\n",
    "failed_count = climate_failed.count()[['name']].rename(columns={'name':'count'})\n",
    "failed_count = failed_count.reset_index()\n",
    "red_orgs = org_count[org_count['name'] > 20].index\n",
    "failed_count_red = failed_count[[org in red_orgs for org in failed_count['organization']]]\n",
    "failed_count_red.head()"
   ]
  },
  {
   "cell_type": "code",
   "execution_count": 322,
   "metadata": {},
   "outputs": [
    {
     "name": "stderr",
     "output_type": "stream",
     "text": [
      "C:\\Users\\James Sharpnack\\Anaconda2\\lib\\site-packages\\ipykernel\\__main__.py:2: SettingWithCopyWarning: \n",
      "A value is trying to be set on a copy of a slice from a DataFrame.\n",
      "Try using .loc[row_indexer,col_indexer] = value instead\n",
      "\n",
      "See the caveats in the documentation: http://pandas.pydata.org/pandas-docs/stable/indexing.html#indexing-view-versus-copy\n",
      "  from ipykernel import kernelapp as app\n"
     ]
    }
   ],
   "source": [
    "org_numbers = {org_sorted[i]:i+1 for i in range(len(org_sorted))}\n",
    "failed_count_red['org number'] = failed_count_red['organization'].apply(lambda o: org_numbers[o])"
   ]
  },
  {
   "cell_type": "code",
   "execution_count": 328,
   "metadata": {},
   "outputs": [
    {
     "data": {
      "text/html": [
       "<div>\n",
       "<table border=\"1\" class=\"dataframe\">\n",
       "  <thead>\n",
       "    <tr style=\"text-align: right;\">\n",
       "      <th></th>\n",
       "      <th>organization</th>\n",
       "      <th>failed ratio</th>\n",
       "      <th>count</th>\n",
       "      <th>org number</th>\n",
       "    </tr>\n",
       "  </thead>\n",
       "  <tbody>\n",
       "    <tr>\n",
       "      <th>0</th>\n",
       "      <td>Arctic Landscape Conservation Cooperative</td>\n",
       "      <td>0.000000</td>\n",
       "      <td>41</td>\n",
       "      <td>6</td>\n",
       "    </tr>\n",
       "    <tr>\n",
       "      <th>2</th>\n",
       "      <td>Department of Agriculture</td>\n",
       "      <td>0.000000</td>\n",
       "      <td>48</td>\n",
       "      <td>4</td>\n",
       "    </tr>\n",
       "    <tr>\n",
       "      <th>3</th>\n",
       "      <td>Department of Agriculture</td>\n",
       "      <td>0.250000</td>\n",
       "      <td>1</td>\n",
       "      <td>4</td>\n",
       "    </tr>\n",
       "    <tr>\n",
       "      <th>4</th>\n",
       "      <td>Department of Agriculture</td>\n",
       "      <td>0.333333</td>\n",
       "      <td>3</td>\n",
       "      <td>4</td>\n",
       "    </tr>\n",
       "    <tr>\n",
       "      <th>5</th>\n",
       "      <td>Department of Agriculture</td>\n",
       "      <td>0.500000</td>\n",
       "      <td>1</td>\n",
       "      <td>4</td>\n",
       "    </tr>\n",
       "  </tbody>\n",
       "</table>\n",
       "</div>"
      ],
      "text/plain": [
       "                                organization  failed ratio  count  org number\n",
       "0  Arctic Landscape Conservation Cooperative      0.000000     41           6\n",
       "2                  Department of Agriculture      0.000000     48           4\n",
       "3                  Department of Agriculture      0.250000      1           4\n",
       "4                  Department of Agriculture      0.333333      3           4\n",
       "5                  Department of Agriculture      0.500000      1           4"
      ]
     },
     "execution_count": 328,
     "metadata": {},
     "output_type": "execute_result"
    }
   ],
   "source": [
    "failed_count_red.head()"
   ]
  },
  {
   "cell_type": "code",
   "execution_count": 330,
   "metadata": {},
   "outputs": [
    {
     "name": "stdout",
     "output_type": "stream",
     "text": [
      "1: National Oceanic and Atmospheric Administration, Department of Commerce\n",
      "2: U.S. Geological Survey, Department of the Interior\n",
      "3: National Aeronautics and Space Administration\n",
      "4: Department of Agriculture\n",
      "5: Department of Energy\n",
      "6: Arctic Landscape Conservation Cooperative\n",
      "7: Other\n",
      "8: U.S. Department of Health  Human Services\n",
      "9: Department of Transportation\n",
      "10: U.S. Environmental Protection Agency\n"
     ]
    },
    {
     "data": {
      "image/png": "[encoded data removed]",
      "text/plain": [
       "<matplotlib.figure.Figure at 0x122a40f0>"
      ]
     },
     "metadata": {},
     "output_type": "display_data"
    }
   ],
   "source": [
    "from operator import itemgetter\n",
    "norgs=len(org_numbers)\n",
    "_ = failed_count_red.plot(x = 'org number',y = 'failed ratio',xticks=range(1,norgs+1),\n",
    "                      s=failed_count['count']*4,kind='scatter',marker='s')\n",
    "for orgname,i in sorted(org_numbers.items(),key=itemgetter(1)):\n",
    "    print \"{}: {}\".format(i,orgname)"
   ]
  },
  {
   "cell_type": "code",
   "execution_count": null,
   "metadata": {
    "collapsed": true
   },
   "outputs": [],
   "source": []
  }
 ],
 "metadata": {
  "anaconda-cloud": {},
  "kernelspec": {
   "display_name": "Python 3",
   "language": "python",
   "name": "python3"
  },
  "language_info": {
   "codemirror_mode": {
    "name": "ipython",
    "version": 3
   },
   "file_extension": ".py",
   "mimetype": "text/x-python",
   "name": "python",
   "nbconvert_exporter": "python",
   "pygments_lexer": "ipython3",
   "version": "3.6.4"
  }
 },
 "nbformat": 4,
 "nbformat_minor": 1
}
